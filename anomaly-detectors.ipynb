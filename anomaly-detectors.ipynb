{
 "cells": [
  {
   "cell_type": "markdown",
   "metadata": {},
   "source": [
    "# Anomaly Detection in NetFlow Data\n",
    "\n",
    "[flow_anomaly_overview](https://www.researchgate.net/publication/326146808_An_overview_of_flow-based_anomaly_detection/link/5c6516d092851c48a9d26757/download)\n",
    "1. Statistical\n",
    "    - monitor quantative attributes like volume of flows against thresholds. \n",
    "    - distribution based time series modeling\n",
    "    - PCA (Fernandes 2015)\n",
    "2. Machine learning\n",
    "    - NNs, SVMs\n",
    "3. Clustering\n",
    "    - kmeans for botnets - derived features from flows\n",
    "4. Frequent pattern mining\n",
    "    - FP techniques\n",
    "    - multiple different histogram based\n",
    "5. Agent\n",
    "    - trust model to intigrate and estimate maliciousness of flow\n",
    "    - split based on proto type before applying\n",
    "    "
   ]
  },
  {
   "cell_type": "markdown",
   "metadata": {},
   "source": [
    "# Detectors\n",
    "\n",
    "- blacklist_check: check srcip, dstip against known blacklist ips. can use indexing/hashing. Periodically fetch blacklists.\n",
    "\n",
    "- flow closed check: check if tcp established connection was closed state - put in list/hash each flow tuple and maintain counter of up/dw bytes\n",
    "\n",
    "- response check: over time repeated connection have no response - every new connection start should have response (opp srcip/dstip and ports) in T=5s. If response - remove it from list, else - observe for next time and generate alert if \"too much\"\n",
    "\n",
    "- amplification detector: srcip-dstip pair based on history of number of packets/bytes (?)\n",
    "- statistics detector: calculate stats for each ip - helps detect port scans, bruteforce attacks, etc. (?)\n",
    "- ports usage and scanning: threshold based detector based on number of ports used\n",
    "- suspicious srcip monitor: if any alert generated, enters srcip into summarizer method\n",
    "- clustering\n",
    "- NN\n",
    "\n",
    "\n",
    "## Data Exploration"
   ]
  },
  {
   "cell_type": "code",
   "execution_count": 193,
   "metadata": {},
   "outputs": [],
   "source": [
    "import pandas as pd\n",
    "import ipaddress\n",
    "import numpy as np\n",
    "\n",
    "from analyzer import _FLOW_FIELDS"
   ]
  },
  {
   "cell_type": "code",
   "execution_count": 194,
   "metadata": {},
   "outputs": [
    {
     "data": {
      "text/plain": [
       "['ts',\n",
       " 'ip_protocol',\n",
       " 'state',\n",
       " 'src_ip',\n",
       " 'src_port',\n",
       " 'dst_ip',\n",
       " 'dst_port',\n",
       " 'src_tx',\n",
       " 'dst_tx']"
      ]
     },
     "execution_count": 194,
     "metadata": {},
     "output_type": "execute_result"
    }
   ],
   "source": [
    "_FLOW_FIELDS"
   ]
  },
  {
   "cell_type": "code",
   "execution_count": 195,
   "metadata": {},
   "outputs": [],
   "source": [
    "df_orig = pd.read_csv(\"data.csv\", names=_FLOW_FIELDS, parse_dates=['ts'])"
   ]
  },
  {
   "cell_type": "code",
   "execution_count": 196,
   "metadata": {},
   "outputs": [
    {
     "data": {
      "text/html": [
       "<div>\n",
       "<style scoped>\n",
       "    .dataframe tbody tr th:only-of-type {\n",
       "        vertical-align: middle;\n",
       "    }\n",
       "\n",
       "    .dataframe tbody tr th {\n",
       "        vertical-align: top;\n",
       "    }\n",
       "\n",
       "    .dataframe thead th {\n",
       "        text-align: right;\n",
       "    }\n",
       "</style>\n",
       "<table border=\"1\" class=\"dataframe\">\n",
       "  <thead>\n",
       "    <tr style=\"text-align: right;\">\n",
       "      <th></th>\n",
       "      <th>ts</th>\n",
       "      <th>ip_protocol</th>\n",
       "      <th>state</th>\n",
       "      <th>src_ip</th>\n",
       "      <th>src_port</th>\n",
       "      <th>dst_ip</th>\n",
       "      <th>dst_port</th>\n",
       "      <th>src_tx</th>\n",
       "      <th>dst_tx</th>\n",
       "    </tr>\n",
       "  </thead>\n",
       "  <tbody>\n",
       "    <tr>\n",
       "      <th>0</th>\n",
       "      <td>2017-01-27 16:24:42</td>\n",
       "      <td>tcp</td>\n",
       "      <td>closed</td>\n",
       "      <td>10.2.1.39</td>\n",
       "      <td>60707</td>\n",
       "      <td>74.201.65.31</td>\n",
       "      <td>443</td>\n",
       "      <td>21687</td>\n",
       "      <td>8999</td>\n",
       "    </tr>\n",
       "    <tr>\n",
       "      <th>1</th>\n",
       "      <td>2017-01-27 16:24:42</td>\n",
       "      <td>tcp</td>\n",
       "      <td>closed</td>\n",
       "      <td>10.2.1.39</td>\n",
       "      <td>60708</td>\n",
       "      <td>74.201.65.31</td>\n",
       "      <td>443</td>\n",
       "      <td>37065</td>\n",
       "      <td>14484</td>\n",
       "    </tr>\n",
       "    <tr>\n",
       "      <th>2</th>\n",
       "      <td>2017-01-27 16:24:42</td>\n",
       "      <td>tcp</td>\n",
       "      <td>closed</td>\n",
       "      <td>192.168.111.106</td>\n",
       "      <td>38190</td>\n",
       "      <td>10.2.1.38</td>\n",
       "      <td>443</td>\n",
       "      <td>124834</td>\n",
       "      <td>47898</td>\n",
       "    </tr>\n",
       "    <tr>\n",
       "      <th>3</th>\n",
       "      <td>2017-01-27 16:24:42</td>\n",
       "      <td>tcp</td>\n",
       "      <td>closed</td>\n",
       "      <td>192.168.111.46</td>\n",
       "      <td>44178</td>\n",
       "      <td>10.2.1.39</td>\n",
       "      <td>443</td>\n",
       "      <td>0</td>\n",
       "      <td>31</td>\n",
       "    </tr>\n",
       "    <tr>\n",
       "      <th>4</th>\n",
       "      <td>2017-01-27 16:24:42</td>\n",
       "      <td>tcp</td>\n",
       "      <td>established</td>\n",
       "      <td>10.2.20.1</td>\n",
       "      <td>60246</td>\n",
       "      <td>10.12.0.31</td>\n",
       "      <td>80</td>\n",
       "      <td>20125</td>\n",
       "      <td>1422804</td>\n",
       "    </tr>\n",
       "  </tbody>\n",
       "</table>\n",
       "</div>"
      ],
      "text/plain": [
       "                   ts ip_protocol        state           src_ip  src_port  \\\n",
       "0 2017-01-27 16:24:42         tcp       closed        10.2.1.39     60707   \n",
       "1 2017-01-27 16:24:42         tcp       closed        10.2.1.39     60708   \n",
       "2 2017-01-27 16:24:42         tcp       closed  192.168.111.106     38190   \n",
       "3 2017-01-27 16:24:42         tcp       closed   192.168.111.46     44178   \n",
       "4 2017-01-27 16:24:42         tcp  established        10.2.20.1     60246   \n",
       "\n",
       "         dst_ip  dst_port  src_tx   dst_tx  \n",
       "0  74.201.65.31       443   21687     8999  \n",
       "1  74.201.65.31       443   37065    14484  \n",
       "2     10.2.1.38       443  124834    47898  \n",
       "3     10.2.1.39       443       0       31  \n",
       "4    10.12.0.31        80   20125  1422804  "
      ]
     },
     "execution_count": 196,
     "metadata": {},
     "output_type": "execute_result"
    }
   ],
   "source": [
    "df_orig.head()"
   ]
  },
  {
   "cell_type": "code",
   "execution_count": 197,
   "metadata": {},
   "outputs": [
    {
     "name": "stdout",
     "output_type": "stream",
     "text": [
      "142373\n"
     ]
    }
   ],
   "source": [
    "print(len(df_orig))"
   ]
  },
  {
   "cell_type": "code",
   "execution_count": 198,
   "metadata": {},
   "outputs": [
    {
     "data": {
      "text/plain": [
       "Timedelta('0 days 01:10:18')"
      ]
     },
     "execution_count": 198,
     "metadata": {},
     "output_type": "execute_result"
    }
   ],
   "source": [
    "df_orig.iloc[-1]['ts'] - df_orig.iloc[0]['ts']"
   ]
  },
  {
   "cell_type": "code",
   "execution_count": 199,
   "metadata": {},
   "outputs": [
    {
     "data": {
      "text/plain": [
       "array(['tcp', 'udp'], dtype=object)"
      ]
     },
     "execution_count": 199,
     "metadata": {},
     "output_type": "execute_result"
    }
   ],
   "source": [
    "df_orig['ip_protocol'].unique()"
   ]
  },
  {
   "cell_type": "code",
   "execution_count": 200,
   "metadata": {},
   "outputs": [
    {
     "data": {
      "text/plain": [
       "array(['closed', 'established', 'reset', 'new', 'closing', 'connecting'],\n",
       "      dtype=object)"
      ]
     },
     "execution_count": 200,
     "metadata": {},
     "output_type": "execute_result"
    }
   ],
   "source": [
    "df_orig['state'].unique()"
   ]
  },
  {
   "cell_type": "code",
   "execution_count": 201,
   "metadata": {},
   "outputs": [
    {
     "name": "stdout",
     "output_type": "stream",
     "text": [
      "218\n",
      "2273\n",
      "28261\n",
      "474\n"
     ]
    }
   ],
   "source": [
    "print( len(df_orig['src_ip'].unique()) )\n",
    "print( len(df_orig['dst_ip'].unique()) )\n",
    "print( len(df_orig['src_port'].unique()) )\n",
    "print( len(df_orig['dst_port'].unique()) )"
   ]
  },
  {
   "cell_type": "code",
   "execution_count": 202,
   "metadata": {},
   "outputs": [
    {
     "name": "stdout",
     "output_type": "stream",
     "text": [
      "4040512881\n",
      "4547933614\n"
     ]
    }
   ],
   "source": [
    "print( df_orig['src_tx'].sum() )\n",
    "print( df_orig['dst_tx'].sum() )"
   ]
  },
  {
   "cell_type": "code",
   "execution_count": 203,
   "metadata": {},
   "outputs": [
    {
     "name": "stdout",
     "output_type": "stream",
     "text": [
      "unique flows: 47334\n"
     ]
    }
   ],
   "source": [
    "df2 = df_orig.groupby(['src_ip', 'src_port', 'dst_ip', 'dst_port', 'ip_protocol'])['state'].count().reset_index()\n",
    "\n",
    "print(\"unique flows:\", len(df2))"
   ]
  },
  {
   "cell_type": "code",
   "execution_count": 204,
   "metadata": {},
   "outputs": [],
   "source": [
    "#df3 = df2.copy()\n",
    "\n",
    "#df2[ (df3['src_ip']==df2['dst_ip']) & (df3['dst_ip']==df2['src_ip']) & (df3['dst_port']==df2['src_port']) ]"
   ]
  },
  {
   "cell_type": "markdown",
   "metadata": {},
   "source": [
    "## Feature Extraction\n",
    "\n",
    "- first try: calculate with full dataset and get rid of timestamp\n",
    "    - later real-time do T sec windowing (extract features every T sec and save last_state, time_first_seen)\n",
    "    \n",
    "- input raw features: ['ts','ip_protocol','state','src_ip','src_port','dst_ip','dst_port','src_tx','dst_tx']\n",
    "- output features:\n",
    "    - with (srcip, sport, dstip, dport, proto) as initial key:\n",
    "    - number of entries/connections: count(entries) grouped\n",
    "    - time_first_seen = ts1\n",
    "    - time_last_seen = ts2\n",
    "    - total time for flow (first_seen - current/end)\n",
    "    - bytes_up (sum src_tx)\n",
    "    - bytes_dw\n",
    "    - throughput_up (total bytes/total time)\n",
    "    - throughput_dw\n",
    "    - first_state\n",
    "    - last_state = (state)\n",
    "    - state_(state) : number of connections per state\n",
    "    - cidr_src_ip: get supernet string using ipaddr\n",
    "    - cidr_dst_ip\n",
    "    - pvt_srcip: private IPs should be declared as private (True/False)\n",
    "    - pvt_dstip\n",
    "    \n",
    "- If group by (src_ip, dst_ip):\n",
    "    - num_flows_tcp\n",
    "    - num_flows_udp\n",
    "    - dport_80, dport_8080, dport_443, dport_22, ... (well known ports: True/False)\n",
    "\n",
    "#### Notes:\n",
    "- Q. treat ports and ips as orthogonal features not integers?\n",
    "- Q. drop flow_tuple and time stamps and try?"
   ]
  },
  {
   "cell_type": "code",
   "execution_count": 205,
   "metadata": {},
   "outputs": [],
   "source": [
    "gp = df_orig.groupby(['src_ip', 'src_port', 'dst_ip', 'dst_port', 'ip_protocol'])"
   ]
  },
  {
   "cell_type": "code",
   "execution_count": 206,
   "metadata": {},
   "outputs": [],
   "source": [
    "df = gp['state'].count().to_frame().rename(columns={'state':'num_conns'})"
   ]
  },
  {
   "cell_type": "code",
   "execution_count": 81,
   "metadata": {},
   "outputs": [
    {
     "name": "stdout",
     "output_type": "stream",
     "text": [
      "Number of individual flows : 47334\n"
     ]
    }
   ],
   "source": [
    "print(\"Number of individual flows :\", len(df))"
   ]
  },
  {
   "cell_type": "code",
   "execution_count": 207,
   "metadata": {},
   "outputs": [],
   "source": [
    "df['time_first_seen'] = gp['ts'].first()\n",
    "df['time_last_seen'] = gp['ts'].last()\n",
    "df['time_flow'] = (df['time_last_seen'] - df['time_first_seen']).apply(lambda x: x.seconds)"
   ]
  },
  {
   "cell_type": "code",
   "execution_count": 208,
   "metadata": {},
   "outputs": [],
   "source": [
    "df['bytes_up'] = gp['src_tx'].sum()\n",
    "df['bytes_dw'] = gp['dst_tx'].sum()\n",
    "df['bytes_ratio'] = df['bytes_dw']/df['bytes_up']"
   ]
  },
  {
   "cell_type": "code",
   "execution_count": 209,
   "metadata": {},
   "outputs": [],
   "source": [
    "df['Bps_up'] = (df['bytes_up']/df['time_flow']).fillna(-99999)\n",
    "df['Bps_dw'] = (df['bytes_dw']/df['time_flow']).fillna(-99999)"
   ]
  },
  {
   "cell_type": "code",
   "execution_count": 210,
   "metadata": {},
   "outputs": [
    {
     "data": {
      "text/html": [
       "<div>\n",
       "<style scoped>\n",
       "    .dataframe tbody tr th:only-of-type {\n",
       "        vertical-align: middle;\n",
       "    }\n",
       "\n",
       "    .dataframe tbody tr th {\n",
       "        vertical-align: top;\n",
       "    }\n",
       "\n",
       "    .dataframe thead th {\n",
       "        text-align: right;\n",
       "    }\n",
       "</style>\n",
       "<table border=\"1\" class=\"dataframe\">\n",
       "  <thead>\n",
       "    <tr style=\"text-align: right;\">\n",
       "      <th></th>\n",
       "      <th></th>\n",
       "      <th></th>\n",
       "      <th></th>\n",
       "      <th></th>\n",
       "      <th>num_conns</th>\n",
       "      <th>time_first_seen</th>\n",
       "      <th>time_last_seen</th>\n",
       "      <th>time_flow</th>\n",
       "      <th>bytes_up</th>\n",
       "      <th>bytes_dw</th>\n",
       "      <th>bytes_ratio</th>\n",
       "      <th>Bps_up</th>\n",
       "      <th>Bps_dw</th>\n",
       "    </tr>\n",
       "    <tr>\n",
       "      <th>src_ip</th>\n",
       "      <th>src_port</th>\n",
       "      <th>dst_ip</th>\n",
       "      <th>dst_port</th>\n",
       "      <th>ip_protocol</th>\n",
       "      <th></th>\n",
       "      <th></th>\n",
       "      <th></th>\n",
       "      <th></th>\n",
       "      <th></th>\n",
       "      <th></th>\n",
       "      <th></th>\n",
       "      <th></th>\n",
       "      <th></th>\n",
       "    </tr>\n",
       "  </thead>\n",
       "  <tbody>\n",
       "    <tr>\n",
       "      <th rowspan=\"2\" valign=\"top\">0.0.0.0</th>\n",
       "      <th>68</th>\n",
       "      <th>255.255.255.255</th>\n",
       "      <th>67</th>\n",
       "      <th>udp</th>\n",
       "      <td>87</td>\n",
       "      <td>2017-01-27 16:24:45</td>\n",
       "      <td>2017-01-27 17:34:30</td>\n",
       "      <td>4185</td>\n",
       "      <td>153073</td>\n",
       "      <td>0</td>\n",
       "      <td>0.0</td>\n",
       "      <td>36.576583</td>\n",
       "      <td>0.0</td>\n",
       "    </tr>\n",
       "    <tr>\n",
       "      <th>5678</th>\n",
       "      <th>255.255.255.255</th>\n",
       "      <th>5678</th>\n",
       "      <th>udp</th>\n",
       "      <td>62</td>\n",
       "      <td>2017-01-27 16:24:58</td>\n",
       "      <td>2017-01-27 17:34:58</td>\n",
       "      <td>4200</td>\n",
       "      <td>14555</td>\n",
       "      <td>0</td>\n",
       "      <td>0.0</td>\n",
       "      <td>3.465476</td>\n",
       "      <td>0.0</td>\n",
       "    </tr>\n",
       "    <tr>\n",
       "      <th>10.1.0.39</th>\n",
       "      <th>138</th>\n",
       "      <th>10.1.255.255</th>\n",
       "      <th>138</th>\n",
       "      <th>udp</th>\n",
       "      <td>6</td>\n",
       "      <td>2017-01-27 16:28:41</td>\n",
       "      <td>2017-01-27 17:28:44</td>\n",
       "      <td>3603</td>\n",
       "      <td>2610</td>\n",
       "      <td>0</td>\n",
       "      <td>0.0</td>\n",
       "      <td>0.724396</td>\n",
       "      <td>0.0</td>\n",
       "    </tr>\n",
       "    <tr>\n",
       "      <th>10.1.1.1</th>\n",
       "      <th>5678</th>\n",
       "      <th>255.255.255.255</th>\n",
       "      <th>5678</th>\n",
       "      <th>udp</th>\n",
       "      <td>62</td>\n",
       "      <td>2017-01-27 16:24:58</td>\n",
       "      <td>2017-01-27 17:34:58</td>\n",
       "      <td>4200</td>\n",
       "      <td>7242</td>\n",
       "      <td>0</td>\n",
       "      <td>0.0</td>\n",
       "      <td>1.724286</td>\n",
       "      <td>0.0</td>\n",
       "    </tr>\n",
       "    <tr>\n",
       "      <th>10.1.1.12</th>\n",
       "      <th>3052</th>\n",
       "      <th>255.255.255.255</th>\n",
       "      <th>3052</th>\n",
       "      <th>udp</th>\n",
       "      <td>90</td>\n",
       "      <td>2017-01-27 16:24:44</td>\n",
       "      <td>2017-01-27 17:34:45</td>\n",
       "      <td>4201</td>\n",
       "      <td>101520</td>\n",
       "      <td>0</td>\n",
       "      <td>0.0</td>\n",
       "      <td>24.165675</td>\n",
       "      <td>0.0</td>\n",
       "    </tr>\n",
       "  </tbody>\n",
       "</table>\n",
       "</div>"
      ],
      "text/plain": [
       "                                                         num_conns  \\\n",
       "src_ip    src_port dst_ip          dst_port ip_protocol              \n",
       "0.0.0.0   68       255.255.255.255 67       udp                 87   \n",
       "          5678     255.255.255.255 5678     udp                 62   \n",
       "10.1.0.39 138      10.1.255.255    138      udp                  6   \n",
       "10.1.1.1  5678     255.255.255.255 5678     udp                 62   \n",
       "10.1.1.12 3052     255.255.255.255 3052     udp                 90   \n",
       "\n",
       "                                                            time_first_seen  \\\n",
       "src_ip    src_port dst_ip          dst_port ip_protocol                       \n",
       "0.0.0.0   68       255.255.255.255 67       udp         2017-01-27 16:24:45   \n",
       "          5678     255.255.255.255 5678     udp         2017-01-27 16:24:58   \n",
       "10.1.0.39 138      10.1.255.255    138      udp         2017-01-27 16:28:41   \n",
       "10.1.1.1  5678     255.255.255.255 5678     udp         2017-01-27 16:24:58   \n",
       "10.1.1.12 3052     255.255.255.255 3052     udp         2017-01-27 16:24:44   \n",
       "\n",
       "                                                             time_last_seen  \\\n",
       "src_ip    src_port dst_ip          dst_port ip_protocol                       \n",
       "0.0.0.0   68       255.255.255.255 67       udp         2017-01-27 17:34:30   \n",
       "          5678     255.255.255.255 5678     udp         2017-01-27 17:34:58   \n",
       "10.1.0.39 138      10.1.255.255    138      udp         2017-01-27 17:28:44   \n",
       "10.1.1.1  5678     255.255.255.255 5678     udp         2017-01-27 17:34:58   \n",
       "10.1.1.12 3052     255.255.255.255 3052     udp         2017-01-27 17:34:45   \n",
       "\n",
       "                                                         time_flow  bytes_up  \\\n",
       "src_ip    src_port dst_ip          dst_port ip_protocol                        \n",
       "0.0.0.0   68       255.255.255.255 67       udp               4185    153073   \n",
       "          5678     255.255.255.255 5678     udp               4200     14555   \n",
       "10.1.0.39 138      10.1.255.255    138      udp               3603      2610   \n",
       "10.1.1.1  5678     255.255.255.255 5678     udp               4200      7242   \n",
       "10.1.1.12 3052     255.255.255.255 3052     udp               4201    101520   \n",
       "\n",
       "                                                         bytes_dw  \\\n",
       "src_ip    src_port dst_ip          dst_port ip_protocol             \n",
       "0.0.0.0   68       255.255.255.255 67       udp                 0   \n",
       "          5678     255.255.255.255 5678     udp                 0   \n",
       "10.1.0.39 138      10.1.255.255    138      udp                 0   \n",
       "10.1.1.1  5678     255.255.255.255 5678     udp                 0   \n",
       "10.1.1.12 3052     255.255.255.255 3052     udp                 0   \n",
       "\n",
       "                                                         bytes_ratio  \\\n",
       "src_ip    src_port dst_ip          dst_port ip_protocol                \n",
       "0.0.0.0   68       255.255.255.255 67       udp                  0.0   \n",
       "          5678     255.255.255.255 5678     udp                  0.0   \n",
       "10.1.0.39 138      10.1.255.255    138      udp                  0.0   \n",
       "10.1.1.1  5678     255.255.255.255 5678     udp                  0.0   \n",
       "10.1.1.12 3052     255.255.255.255 3052     udp                  0.0   \n",
       "\n",
       "                                                            Bps_up  Bps_dw  \n",
       "src_ip    src_port dst_ip          dst_port ip_protocol                     \n",
       "0.0.0.0   68       255.255.255.255 67       udp          36.576583     0.0  \n",
       "          5678     255.255.255.255 5678     udp           3.465476     0.0  \n",
       "10.1.0.39 138      10.1.255.255    138      udp           0.724396     0.0  \n",
       "10.1.1.1  5678     255.255.255.255 5678     udp           1.724286     0.0  \n",
       "10.1.1.12 3052     255.255.255.255 3052     udp          24.165675     0.0  "
      ]
     },
     "execution_count": 210,
     "metadata": {},
     "output_type": "execute_result"
    }
   ],
   "source": [
    "df.head()"
   ]
  },
  {
   "cell_type": "code",
   "execution_count": 211,
   "metadata": {},
   "outputs": [],
   "source": [
    "df['first_state'] = gp['state'].first()\n",
    "df['last_state'] = gp['state'].last()"
   ]
  },
  {
   "cell_type": "code",
   "execution_count": 212,
   "metadata": {},
   "outputs": [],
   "source": [
    "from collections import Counter\n",
    "\n",
    "df_state_count = gp['state'].apply(lambda x: Counter(x)).unstack().fillna(0)\n",
    "df_state_count = df_state_count.rename(columns = {col: \"state_\"+col for col in df_state_count.columns})"
   ]
  },
  {
   "cell_type": "code",
   "execution_count": 213,
   "metadata": {},
   "outputs": [],
   "source": [
    "df = df.join(df_state_count).reset_index()"
   ]
  },
  {
   "cell_type": "code",
   "execution_count": 238,
   "metadata": {},
   "outputs": [],
   "source": [
    "df['cidr_src_ip'] = df['src_ip'].apply(lambda x: ipaddress.ip_network(x))\n",
    "df['cidr_dst_ip'] = df['dst_ip'].apply(lambda x: ipaddress.ip_network(x))\n",
    "df['pvt_src_ip'] = df['src_ip'].apply(lambda x: ipaddress.IPv4Address(x).is_private)\n",
    "df['pvt_dst_ip'] = df['dst_ip'].apply(lambda x: ipaddress.IPv4Address(x).is_private)"
   ]
  },
  {
   "cell_type": "markdown",
   "metadata": {},
   "source": [
    "#### add port_NUM orthogonal features (1/0)\n",
    "- port_80, port_8080, port_443, port_53, port_22\n",
    "- port_3306: mysql\n",
    "- port_5772: rambitMQ\n",
    "- port_1194: openvpn"
   ]
  },
  {
   "cell_type": "code",
   "execution_count": 262,
   "metadata": {},
   "outputs": [],
   "source": [
    "# TODO: add categorical columns for famous ports/those with most connections\n",
    "for port in [80, 8080, 443, 53, 22, 3306, 5772, 1194]:\n",
    "    df['port_'+str(port)] = 0\n",
    "    df.loc[df['dst_port']==port, 'port_'+str(port)] = 1\n",
    "    \n",
    "df['proto_tcp'] = 0\n",
    "df.loc[df['ip_protocol']=='tcp', 'proto_tcp'] = 1"
   ]
  },
  {
   "cell_type": "code",
   "execution_count": 264,
   "metadata": {},
   "outputs": [],
   "source": [
    "#df.to_pickle('df_flow_features.pkl')"
   ]
  },
  {
   "cell_type": "markdown",
   "metadata": {},
   "source": [
    "# Clustering\n",
    "- try DBSCAN, PCA, k-means, hierarchical"
   ]
  },
  {
   "cell_type": "code",
   "execution_count": 257,
   "metadata": {},
   "outputs": [],
   "source": [
    "from matplotlib import pyplot as plt"
   ]
  },
  {
   "cell_type": "markdown",
   "metadata": {},
   "source": [
    "### Try PCA\n",
    "- PCA is best for continuous variables, so drop most categorical ones, leave ports and ip protocol\n",
    "- no target - just seeing components to get intuition about dataset.\n",
    "- Or maybe 'srcip' or 'dstip' as target (to cluster clients)\n",
    "- [pca example for ref](https://www.kaggle.com/kashnitsky/topic-7-unsupervised-learning-pca-and-clustering)"
   ]
  },
  {
   "cell_type": "code",
   "execution_count": 294,
   "metadata": {},
   "outputs": [],
   "source": [
    "from sklearn import decomposition\n",
    "#from sklearn.model_selection import train_test_split\n",
    "from sklearn.metrics import accuracy_score, roc_auc_score"
   ]
  },
  {
   "cell_type": "code",
   "execution_count": 349,
   "metadata": {},
   "outputs": [
    {
     "data": {
      "text/plain": [
       "Index(['src_ip', 'src_port', 'dst_ip', 'dst_port', 'ip_protocol', 'num_conns',\n",
       "       'time_first_seen', 'time_last_seen', 'time_flow', 'bytes_up',\n",
       "       'bytes_dw', 'bytes_ratio', 'Bps_up', 'Bps_dw', 'first_state',\n",
       "       'last_state', 'state_closed', 'state_closing', 'state_connecting',\n",
       "       'state_established', 'state_new', 'state_reset', 'cidr_src_ip',\n",
       "       'cidr_dst_ip', 'pvt_src_ip', 'pvt_dst_ip', 'port_80', 'port_8080',\n",
       "       'port_443', 'port_53', 'port_22', 'port_3306', 'port_5772', 'port_1194',\n",
       "       'proto_tcp'],\n",
       "      dtype='object')"
      ]
     },
     "execution_count": 349,
     "metadata": {},
     "output_type": "execute_result"
    }
   ],
   "source": [
    "df.columns"
   ]
  },
  {
   "cell_type": "code",
   "execution_count": 416,
   "metadata": {},
   "outputs": [],
   "source": [
    "features_max = ['src_port', 'dst_port', 'num_conns', 'time_flow', 'bytes_up', 'bytes_dw',\n",
    "            'state_closed', 'state_closing', 'state_connecting',\n",
    "            'state_established', 'state_new', 'state_reset', 'pvt_src_ip', 'pvt_dst_ip',\n",
    "            'port_80', 'port_8080', 'port_443', 'port_53', 'port_22', 'port_3306',\n",
    "            'port_5772', 'port_1194', 'proto_tcp']\n",
    "features = ['num_conns', 'proto_tcp', 'time_flow', 'bytes_up', 'bytes_dw', 'state_closed',\n",
    "            'state_closing', 'state_connecting', 'state_established', 'state_new', 'state_reset',\n",
    "            'port_80', 'port_8080', 'port_443', 'port_53', 'port_22', 'port_3306', 'port_5772',\n",
    "            'port_1194']\n",
    "features_min = ['num_conns', 'time_flow', 'bytes_up', 'bytes_dw']"
   ]
  },
  {
   "cell_type": "code",
   "execution_count": 367,
   "metadata": {},
   "outputs": [],
   "source": [
    "target_features = ['src_ip']"
   ]
  },
  {
   "cell_type": "code",
   "execution_count": 368,
   "metadata": {},
   "outputs": [
    {
     "name": "stdout",
     "output_type": "stream",
     "text": [
      "[2.32901393e+13 2.77019698e+12]\n",
      "1 component: 89.37% of initial variance\n",
      "2 component: 10.63% of initial variance\n"
     ]
    }
   ],
   "source": [
    "X = df.loc[:, features_min].values\n",
    "\n",
    "pca = decomposition.PCA(n_components=2)\n",
    "X_centered = X - X.mean(axis=0)\n",
    "pca.fit(X_centered)\n",
    "X_pca = pca.transform(X_centered)\n",
    "\n",
    "print(pca.explained_variance_)\n",
    "for i, component in enumerate(pca.components_):\n",
    "    print(\"{} component: {}% of initial variance\".format(i + 1, \n",
    "          round(100 * pca.explained_variance_ratio_[i], 2)))"
   ]
  },
  {
   "cell_type": "code",
   "execution_count": 369,
   "metadata": {},
   "outputs": [
    {
     "data": {
      "image/png": "[encoded data removed]",
      "text/plain": [
       "<Figure size 432x288 with 1 Axes>"
      ]
     },
     "metadata": {
      "needs_background": "light"
     },
     "output_type": "display_data"
    }
   ],
   "source": [
    "# Plotting the results of PCA\n",
    "fig = plt.figure()\n",
    "ax = fig.add_subplot(1, 1, 1)\n",
    "\n",
    "ax.plot(X_pca[:, 0], X_pca[:, 1], '+')\n",
    "ax.set_xlabel('PCA 0')\n",
    "ax.set_ylabel('PCA 1')\n",
    "ax.grid(1)"
   ]
  },
  {
   "cell_type": "markdown",
   "metadata": {},
   "source": [
    "#### PCA Conclusion\n",
    "- without target we can still see that with only 2 PCA components, data was already clustering"
   ]
  },
  {
   "cell_type": "markdown",
   "metadata": {},
   "source": [
    "# k-means\n",
    "- [k means ref](https://chrisalbon.com/machine_learning/clustering/k-means_clustering/)\n",
    "- [ref 2](https://medium.com/datadriveninvestor/unsupervised-learning-with-python-k-means-and-hierarchical-clustering-f36ceeec919c)\n",
    "- [ref 3](https://towardsdatascience.com/machine-learning-algorithms-part-9-k-means-example-in-python-f2ad05ed5203)\n",
    "- [ref 4](https://jakevdp.github.io/PythonDataScienceHandbook/05.11-k-means.html)"
   ]
  },
  {
   "cell_type": "code",
   "execution_count": 417,
   "metadata": {},
   "outputs": [],
   "source": [
    "#from sklearn.datasets.samples_generator import make_blobs\n",
    "from sklearn.preprocessing import normalize, StandardScaler\n",
    "from sklearn.cluster import KMeans"
   ]
  },
  {
   "cell_type": "code",
   "execution_count": 418,
   "metadata": {},
   "outputs": [],
   "source": [
    "X = df.loc[:, features_max].values\n",
    "X_centered = X - X.mean(axis=0)\n",
    "normalized_X = normalize(X)\n",
    "X_std = StandardScaler().fit_transform(X)"
   ]
  },
  {
   "cell_type": "code",
   "execution_count": 419,
   "metadata": {},
   "outputs": [
    {
     "data": {
      "text/plain": [
       "array([0, 0, 1, ..., 0, 1, 0], dtype=int32)"
      ]
     },
     "execution_count": 419,
     "metadata": {},
     "output_type": "execute_result"
    }
   ],
   "source": [
    "clt = KMeans(n_clusters=5, random_state=0, n_jobs=-1)\n",
    "kmeans = clt.fit(X_std)\n",
    "kmeans.labels_"
   ]
  },
  {
   "cell_type": "code",
   "execution_count": 420,
   "metadata": {},
   "outputs": [],
   "source": [
    "pred_y = kmeans.fit_predict(X_std)"
   ]
  },
  {
   "cell_type": "code",
   "execution_count": 421,
   "metadata": {},
   "outputs": [
    {
     "data": {
      "text/plain": [
       "array([1, 1, 1, ..., 1, 1, 1], dtype=int32)"
      ]
     },
     "execution_count": 421,
     "metadata": {},
     "output_type": "execute_result"
    }
   ],
   "source": [
    "pred_y"
   ]
  },
  {
   "cell_type": "code",
   "execution_count": 422,
   "metadata": {},
   "outputs": [
    {
     "data": {
      "image/png": "[encoded data removed]",
      "text/plain": [
       "<Figure size 432x288 with 1 Axes>"
      ]
     },
     "metadata": {
      "needs_background": "light"
     },
     "output_type": "display_data"
    }
   ],
   "source": [
    "plt.scatter(X_std[:,0], X_std[:,1])\n",
    "plt.scatter(kmeans.cluster_centers_[:, 0], kmeans.cluster_centers_[:, 1], s=300, c='red')\n",
    "plt.show()"
   ]
  },
  {
   "cell_type": "markdown",
   "metadata": {},
   "source": [
    "## DBSCAN\n",
    "- [ref 1](https://towardsdatascience.com/dbscan-clustering-for-data-shapes-k-means-cant-handle-well-in-python-6be89af4e6ea)\n"
   ]
  },
  {
   "cell_type": "code",
   "execution_count": 446,
   "metadata": {},
   "outputs": [],
   "source": [
    "from sklearn.cluster import DBSCAN\n",
    "\n",
    "X = df.loc[:, features_min].values\n",
    "X_std = StandardScaler().fit_transform(X)"
   ]
  },
  {
   "cell_type": "code",
   "execution_count": 447,
   "metadata": {},
   "outputs": [],
   "source": [
    "dbscan = DBSCAN(eps=0.5, min_samples = 2, n_jobs=-1)\n",
    "clusters = dbscan.fit_predict(X_std)"
   ]
  },
  {
   "cell_type": "code",
   "execution_count": 448,
   "metadata": {},
   "outputs": [
    {
     "data": {
      "text/plain": [
       "Text(0, 0.5, 'Feature 1')"
      ]
     },
     "execution_count": 448,
     "metadata": {},
     "output_type": "execute_result"
    },
    {
     "data": {
      "image/png": "[encoded data removed]",
      "text/plain": [
       "<Figure size 432x288 with 1 Axes>"
      ]
     },
     "metadata": {
      "needs_background": "light"
     },
     "output_type": "display_data"
    }
   ],
   "source": [
    "plt.scatter(X[:, 0], X[:, 1], c=clusters, cmap=\"plasma\")\n",
    "plt.xlabel(\"Feature 0\")\n",
    "plt.ylabel(\"Feature 1\")"
   ]
  },
  {
   "cell_type": "code",
   "execution_count": 452,
   "metadata": {},
   "outputs": [],
   "source": [
    "df['predict_dbscan'] = clusters"
   ]
  },
  {
   "cell_type": "code",
   "execution_count": 458,
   "metadata": {},
   "outputs": [],
   "source": [
    "df_outliers =  df[ df['predict_dbscan']!=0 ]"
   ]
  },
  {
   "cell_type": "code",
   "execution_count": 462,
   "metadata": {},
   "outputs": [
    {
     "data": {
      "text/plain": [
       "array(['10.12.24.4', '10.2.1.20', '10.2.1.39', '10.2.20.1', '10.2.20.2',\n",
       "       '10.2.20.3', '10.2.20.4', '10.2.20.5', '10.2.20.6', '10.2.20.7',\n",
       "       '10.2.20.8', '10.2.254.55', '10.2.33.1', '10.2.33.4', '10.2.38.2',\n",
       "       '151.237.238.125', '173.194.202.127', '177.180.108.107',\n",
       "       '179.126.22.176', '192.168.100.116', '192.168.100.12',\n",
       "       '192.168.100.131', '192.168.100.136', '192.168.100.15',\n",
       "       '192.168.100.16', '192.168.100.173', '192.168.100.176',\n",
       "       '192.168.100.181', '192.168.100.188', '192.168.100.23',\n",
       "       '192.168.100.239', '192.168.100.254', '192.168.100.40',\n",
       "       '192.168.100.7', '192.168.100.88', '192.168.100.96',\n",
       "       '192.168.111.158', '192.168.111.226', '192.168.111.86',\n",
       "       '192.168.66.246', '192.76.8.27', '199.91.71.89', '47.200.96.71',\n",
       "       '66.102.1.127', '74.125.28.189', '98.207.16.69'], dtype=object)"
      ]
     },
     "execution_count": 462,
     "metadata": {},
     "output_type": "execute_result"
    }
   ],
   "source": [
    "df_outliers['src_ip'].unique()"
   ]
  },
  {
   "cell_type": "code",
   "execution_count": 485,
   "metadata": {},
   "outputs": [
    {
     "data": {
      "text/plain": [
       "src_ip\n",
       "0.0.0.0                                                  [67, 5678]\n",
       "10.1.0.39                                                     [138]\n",
       "10.1.1.1                                                     [5678]\n",
       "10.1.1.12                                                    [3052]\n",
       "10.1.1.13                                                    [3052]\n",
       "10.1.1.20                                                    [1900]\n",
       "10.1.1.36                                                    [1900]\n",
       "10.1.1.37                                                    [1900]\n",
       "10.1.1.38                                                    [1900]\n",
       "10.1.1.39                                                    [1900]\n",
       "10.1.18.1                                                      [53]\n",
       "10.1.20.1                                                    [1900]\n",
       "10.1.20.10                                                   [1900]\n",
       "10.1.20.11                                                   [1900]\n",
       "10.1.20.2                                                    [1900]\n",
       "10.1.20.3                                                    [1900]\n",
       "10.1.20.4                                                    [1900]\n",
       "10.1.20.5                                                    [1900]\n",
       "10.1.20.6                                                    [1900]\n",
       "10.1.20.7                                                    [1900]\n",
       "10.1.20.8                                                    [1900]\n",
       "10.1.33.1                                                    [1900]\n",
       "10.1.33.2                                                    [1900]\n",
       "10.1.33.3                                                    [1900]\n",
       "10.1.33.4                                                    [1900]\n",
       "10.1.33.5                                                    [1900]\n",
       "10.1.33.6                                                    [1900]\n",
       "10.1.33.7                                                    [1900]\n",
       "10.1.33.8                                                    [1900]\n",
       "10.12.1.1                                                    [8140]\n",
       "                                        ...                        \n",
       "216.58.217.193                                              [59898]\n",
       "216.58.217.195                                              [62887]\n",
       "216.58.217.197                                       [50847, 59815]\n",
       "216.58.217.202                                              [57004]\n",
       "216.58.217.206                  [55113, 65345, 46493, 42303, 51065]\n",
       "38.142.33.20                                                [41006]\n",
       "4.2.2.2                                                     [41116]\n",
       "47.200.96.71                                                 [1194]\n",
       "47.204.1.132                                                 [1194]\n",
       "50.184.221.182                                               [1194]\n",
       "51.184.154.93                                                  [80]\n",
       "52.42.157.208                                                [1194]\n",
       "64.233.186.127                                              [52575]\n",
       "64.233.188.189                                       [43479, 36660]\n",
       "64.233.189.94                                               [50673]\n",
       "66.102.1.127                                                [56514]\n",
       "74.125.140.127                                              [56514]\n",
       "74.125.200.154                                              [58290]\n",
       "74.125.200.94                                               [36871]\n",
       "74.125.203.189                                       [46965, 58671]\n",
       "74.125.204.189                                              [42415]\n",
       "74.125.28.189     [65002, 36708, 37555, 59532, 38844, 48415, 519...\n",
       "8.8.4.4                    [11595, 2743, 9020, 19059, 32602, 44824]\n",
       "8.8.8.8           [20271, 27913, 49935, 18110, 47279, 53255, 567...\n",
       "89.0.247.29                                                  [1194]\n",
       "89.15.49.223                                                 [1194]\n",
       "91.189.89.198                                                 [123]\n",
       "93.221.33.185                                                  [22]\n",
       "96.95.248.225                                                [1194]\n",
       "98.207.16.69                                                 [1194]\n",
       "Name: dst_port, Length: 218, dtype: object"
      ]
     },
     "execution_count": 485,
     "metadata": {},
     "output_type": "execute_result"
    }
   ],
   "source": [
    "df.groupby(['src_ip'])['dst_port'].unique()"
   ]
  },
  {
   "cell_type": "code",
   "execution_count": 486,
   "metadata": {},
   "outputs": [
    {
     "data": {
      "text/plain": [
       "src_ip\n",
       "10.12.24.4         [39491, 53327, 41809, 46406, 47972, 44786, 404...\n",
       "10.2.1.20                                                 [1194, 80]\n",
       "10.2.1.39                                                      [443]\n",
       "10.2.20.1                                                       [80]\n",
       "10.2.20.2                                                 [1194, 80]\n",
       "10.2.20.3                                                 [1194, 80]\n",
       "10.2.20.4                                                 [1194, 80]\n",
       "10.2.20.5                                                 [1194, 80]\n",
       "10.2.20.6                                                 [80, 1194]\n",
       "10.2.20.7                                                 [1194, 80]\n",
       "10.2.20.8                                                     [3306]\n",
       "10.2.254.55                                                   [3306]\n",
       "10.2.33.1                                                      [443]\n",
       "10.2.33.4                                                       [22]\n",
       "10.2.38.2                                                      [443]\n",
       "151.237.238.125                                               [1194]\n",
       "173.194.202.127                                       [59994, 52575]\n",
       "177.180.108.107                                               [1194]\n",
       "179.126.22.176                                                [1194]\n",
       "192.168.100.116                                            [443, 80]\n",
       "192.168.100.12                                                 [443]\n",
       "192.168.100.131                   [5353, 17500, 443, 5228, 5222, 80]\n",
       "192.168.100.136                                  [443, 19302, 19305]\n",
       "192.168.100.15                                                 [443]\n",
       "192.168.100.16                                                 [443]\n",
       "192.168.100.173                                                [443]\n",
       "192.168.100.176                                         [17500, 443]\n",
       "192.168.100.181                                  [443, 19302, 19305]\n",
       "192.168.100.188                                          [443, 5900]\n",
       "192.168.100.23                                                [6789]\n",
       "192.168.100.239                                                [443]\n",
       "192.168.100.254     [35149, 41638, 56593, 49978, 59671, 1194, 64909]\n",
       "192.168.100.40                                       [443, 22, 5228]\n",
       "192.168.100.7                                                  [443]\n",
       "192.168.100.88                                                [5228]\n",
       "192.168.100.96                                                 [443]\n",
       "192.168.111.158                                      [3306, 80, 443]\n",
       "192.168.111.226                                                 [22]\n",
       "192.168.111.86                                        [19305, 19302]\n",
       "192.168.66.246                                             [80, 443]\n",
       "192.76.8.27                                                   [1194]\n",
       "199.91.71.89                                                 [38108]\n",
       "47.200.96.71                                                  [1194]\n",
       "66.102.1.127                                                 [56514]\n",
       "74.125.28.189                                         [65002, 51910]\n",
       "98.207.16.69                                                  [1194]\n",
       "Name: dst_port, dtype: object"
      ]
     },
     "execution_count": 486,
     "metadata": {},
     "output_type": "execute_result"
    }
   ],
   "source": [
    "df_outliers.groupby(['src_ip'])['dst_port'].unique()"
   ]
  },
  {
   "cell_type": "markdown",
   "metadata": {},
   "source": [
    "## Neural Network"
   ]
  },
  {
   "cell_type": "code",
   "execution_count": null,
   "metadata": {},
   "outputs": [],
   "source": []
  },
  {
   "cell_type": "code",
   "execution_count": 5,
   "metadata": {},
   "outputs": [],
   "source": [
    "import tensorflow as tf"
   ]
  },
  {
   "cell_type": "code",
   "execution_count": null,
   "metadata": {},
   "outputs": [],
   "source": []
  }
 ],
 "metadata": {
  "kernelspec": {
   "display_name": "Python 3",
   "language": "python",
   "name": "python3"
  },
  "language_info": {
   "codemirror_mode": {
    "name": "ipython",
    "version": 3
   },
   "file_extension": ".py",
   "mimetype": "text/x-python",
   "name": "python",
   "nbconvert_exporter": "python",
   "pygments_lexer": "ipython3",
   "version": "3.7.1"
  }
 },
 "nbformat": 4,
 "nbformat_minor": 2
}
