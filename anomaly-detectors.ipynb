{
 "cells": [
  {
   "cell_type": "markdown",
   "metadata": {},
   "source": [
    "# Anomaly Detection in NetFlow Data\n",
    "\n",
    "[flow_anomaly_overview](https://www.researchgate.net/publication/326146808_An_overview_of_flow-based_anomaly_detection/link/5c6516d092851c48a9d26757/download)\n",
    "1. Statistical\n",
    "    - monitor quantative attributes like volume of flows against thresholds. \n",
    "    - distribution based time series modeling\n",
    "    - PCA (Fernandes 2015)\n",
    "2. Machine learning\n",
    "    - NNs, SVMs\n",
    "3. Clustering\n",
    "    - kmeans for botnets - derived features from flows\n",
    "4. Frequent pattern mining\n",
    "    - FP techniques\n",
    "    - multiple different histogram based\n",
    "5. Agent\n",
    "    - trust model to intigrate and estimate maliciousness of flow\n",
    "    - split based on proto type before applying\n",
    "    "
   ]
  },
  {
   "cell_type": "markdown",
   "metadata": {},
   "source": [
    "# Detectors\n",
    "\n",
    "- blacklist_check: check srcip, dstip against known blacklist ips. can use indexing/hashing. Periodically fetch blacklists.\n",
    "\n",
    "- flow closed check: check if tcp established connection was closed state - put in list/hash each flow tuple and maintain counter of up/dw bytes\n",
    "\n",
    "- response check: over time repeated connection have no response - every new connection start should have response (opp srcip/dstip and ports) in T=5s. If response - remove it from list, else - observe for next time and generate alert if \"too much\"\n",
    "\n",
    "- amplification detector: srcip-dstip pair based on history of number of packets/bytes (?)\n",
    "- statistics detector: calculate stats for each ip - helps detect port scans, bruteforce attacks, etc. (?)\n",
    "- ports usage and scanning: threshold based detector based on number of ports used\n",
    "- suspicious srcip monitor: if any alert generated, enters srcip into summarizer method\n",
    "- clustering\n",
    "- NN\n",
    "\n",
    "\n",
    "## Data Exploration"
   ]
  },
  {
   "cell_type": "code",
   "execution_count": 193,
   "metadata": {},
   "outputs": [],
   "source": [
    "import pandas as pd\n",
    "import ipaddress\n",
    "import numpy as np\n",
    "\n",
    "from analyzer import _FLOW_FIELDS"
   ]
  },
  {
   "cell_type": "code",
   "execution_count": 194,
   "metadata": {},
   "outputs": [
    {
     "data": {
      "text/plain": [
       "['ts',\n",
       " 'ip_protocol',\n",
       " 'state',\n",
       " 'src_ip',\n",
       " 'src_port',\n",
       " 'dst_ip',\n",
       " 'dst_port',\n",
       " 'src_tx',\n",
       " 'dst_tx']"
      ]
     },
     "execution_count": 194,
     "metadata": {},
     "output_type": "execute_result"
    }
   ],
   "source": [
    "_FLOW_FIELDS"
   ]
  },
  {
   "cell_type": "code",
   "execution_count": 195,
   "metadata": {},
   "outputs": [],
   "source": [
    "df_orig = pd.read_csv(\"data.csv\", names=_FLOW_FIELDS, parse_dates=['ts'])"
   ]
  },
  {
   "cell_type": "code",
   "execution_count": 196,
   "metadata": {},
   "outputs": [
    {
     "data": {
      "text/html": [
       "<div>\n",
       "<style scoped>\n",
       "    .dataframe tbody tr th:only-of-type {\n",
       "        vertical-align: middle;\n",
       "    }\n",
       "\n",
       "    .dataframe tbody tr th {\n",
       "        vertical-align: top;\n",
       "    }\n",
       "\n",
       "    .dataframe thead th {\n",
       "        text-align: right;\n",
       "    }\n",
       "</style>\n",
       "<table border=\"1\" class=\"dataframe\">\n",
       "  <thead>\n",
       "    <tr style=\"text-align: right;\">\n",
       "      <th></th>\n",
       "      <th>ts</th>\n",
       "      <th>ip_protocol</th>\n",
       "      <th>state</th>\n",
       "      <th>src_ip</th>\n",
       "      <th>src_port</th>\n",
       "      <th>dst_ip</th>\n",
       "      <th>dst_port</th>\n",
       "      <th>src_tx</th>\n",
       "      <th>dst_tx</th>\n",
       "    </tr>\n",
       "  </thead>\n",
       "  <tbody>\n",
       "    <tr>\n",
       "      <th>0</th>\n",
       "      <td>2017-01-27 16:24:42</td>\n",
       "      <td>tcp</td>\n",
       "      <td>closed</td>\n",
       "      <td>10.2.1.39</td>\n",
       "      <td>60707</td>\n",
       "      <td>74.201.65.31</td>\n",
       "      <td>443</td>\n",
       "      <td>21687</td>\n",
       "      <td>8999</td>\n",
       "    </tr>\n",
       "    <tr>\n",
       "      <th>1</th>\n",
       "      <td>2017-01-27 16:24:42</td>\n",
       "      <td>tcp</td>\n",
       "      <td>closed</td>\n",
       "      <td>10.2.1.39</td>\n",
       "      <td>60708</td>\n",
       "      <td>74.201.65.31</td>\n",
       "      <td>443</td>\n",
       "      <td>37065</td>\n",
       "      <td>14484</td>\n",
       "    </tr>\n",
       "    <tr>\n",
       "      <th>2</th>\n",
       "      <td>2017-01-27 16:24:42</td>\n",
       "      <td>tcp</td>\n",
       "      <td>closed</td>\n",
       "      <td>192.168.111.106</td>\n",
       "      <td>38190</td>\n",
       "      <td>10.2.1.38</td>\n",
       "      <td>443</td>\n",
       "      <td>124834</td>\n",
       "      <td>47898</td>\n",
       "    </tr>\n",
       "    <tr>\n",
       "      <th>3</th>\n",
       "      <td>2017-01-27 16:24:42</td>\n",
       "      <td>tcp</td>\n",
       "      <td>closed</td>\n",
       "      <td>192.168.111.46</td>\n",
       "      <td>44178</td>\n",
       "      <td>10.2.1.39</td>\n",
       "      <td>443</td>\n",
       "      <td>0</td>\n",
       "      <td>31</td>\n",
       "    </tr>\n",
       "    <tr>\n",
       "      <th>4</th>\n",
       "      <td>2017-01-27 16:24:42</td>\n",
       "      <td>tcp</td>\n",
       "      <td>established</td>\n",
       "      <td>10.2.20.1</td>\n",
       "      <td>60246</td>\n",
       "      <td>10.12.0.31</td>\n",
       "      <td>80</td>\n",
       "      <td>20125</td>\n",
       "      <td>1422804</td>\n",
       "    </tr>\n",
       "  </tbody>\n",
       "</table>\n",
       "</div>"
      ],
      "text/plain": [
       "                   ts ip_protocol        state           src_ip  src_port  \\\n",
       "0 2017-01-27 16:24:42         tcp       closed        10.2.1.39     60707   \n",
       "1 2017-01-27 16:24:42         tcp       closed        10.2.1.39     60708   \n",
       "2 2017-01-27 16:24:42         tcp       closed  192.168.111.106     38190   \n",
       "3 2017-01-27 16:24:42         tcp       closed   192.168.111.46     44178   \n",
       "4 2017-01-27 16:24:42         tcp  established        10.2.20.1     60246   \n",
       "\n",
       "         dst_ip  dst_port  src_tx   dst_tx  \n",
       "0  74.201.65.31       443   21687     8999  \n",
       "1  74.201.65.31       443   37065    14484  \n",
       "2     10.2.1.38       443  124834    47898  \n",
       "3     10.2.1.39       443       0       31  \n",
       "4    10.12.0.31        80   20125  1422804  "
      ]
     },
     "execution_count": 196,
     "metadata": {},
     "output_type": "execute_result"
    }
   ],
   "source": [
    "df_orig.head()"
   ]
  },
  {
   "cell_type": "code",
   "execution_count": 197,
   "metadata": {},
   "outputs": [
    {
     "name": "stdout",
     "output_type": "stream",
     "text": [
      "142373\n"
     ]
    }
   ],
   "source": [
    "print(len(df_orig))"
   ]
  },
  {
   "cell_type": "code",
   "execution_count": 198,
   "metadata": {},
   "outputs": [
    {
     "data": {
      "text/plain": [
       "Timedelta('0 days 01:10:18')"
      ]
     },
     "execution_count": 198,
     "metadata": {},
     "output_type": "execute_result"
    }
   ],
   "source": [
    "df_orig.iloc[-1]['ts'] - df_orig.iloc[0]['ts']"
   ]
  },
  {
   "cell_type": "code",
   "execution_count": 199,
   "metadata": {},
   "outputs": [
    {
     "data": {
      "text/plain": [
       "array(['tcp', 'udp'], dtype=object)"
      ]
     },
     "execution_count": 199,
     "metadata": {},
     "output_type": "execute_result"
    }
   ],
   "source": [
    "df_orig['ip_protocol'].unique()"
   ]
  },
  {
   "cell_type": "code",
   "execution_count": 200,
   "metadata": {},
   "outputs": [
    {
     "data": {
      "text/plain": [
       "array(['closed', 'established', 'reset', 'new', 'closing', 'connecting'],\n",
       "      dtype=object)"
      ]
     },
     "execution_count": 200,
     "metadata": {},
     "output_type": "execute_result"
    }
   ],
   "source": [
    "df_orig['state'].unique()"
   ]
  },
  {
   "cell_type": "code",
   "execution_count": 201,
   "metadata": {},
   "outputs": [
    {
     "name": "stdout",
     "output_type": "stream",
     "text": [
      "218\n",
      "2273\n",
      "28261\n",
      "474\n"
     ]
    }
   ],
   "source": [
    "print( len(df_orig['src_ip'].unique()) )\n",
    "print( len(df_orig['dst_ip'].unique()) )\n",
    "print( len(df_orig['src_port'].unique()) )\n",
    "print( len(df_orig['dst_port'].unique()) )"
   ]
  },
  {
   "cell_type": "code",
   "execution_count": 202,
   "metadata": {},
   "outputs": [
    {
     "name": "stdout",
     "output_type": "stream",
     "text": [
      "4040512881\n",
      "4547933614\n"
     ]
    }
   ],
   "source": [
    "print( df_orig['src_tx'].sum() )\n",
    "print( df_orig['dst_tx'].sum() )"
   ]
  },
  {
   "cell_type": "code",
   "execution_count": 203,
   "metadata": {},
   "outputs": [
    {
     "name": "stdout",
     "output_type": "stream",
     "text": [
      "unique flows: 47334\n"
     ]
    }
   ],
   "source": [
    "df2 = df_orig.groupby(['src_ip', 'src_port', 'dst_ip', 'dst_port', 'ip_protocol'])['state'].count().reset_index()\n",
    "\n",
    "print(\"unique flows:\", len(df2))"
   ]
  },
  {
   "cell_type": "code",
   "execution_count": 204,
   "metadata": {},
   "outputs": [],
   "source": [
    "#df3 = df2.copy()\n",
    "\n",
    "#df2[ (df3['src_ip']==df2['dst_ip']) & (df3['dst_ip']==df2['src_ip']) & (df3['dst_port']==df2['src_port']) ]"
   ]
  },
  {
   "cell_type": "markdown",
   "metadata": {},
   "source": [
    "## Feature Extraction\n",
    "\n",
    "- first try: calculate with full dataset and get rid of timestamp\n",
    "    - later real-time do T sec windowing (extract features every T sec and save last_state, time_first_seen)\n",
    "    \n",
    "- input raw features: ['ts','ip_protocol','state','src_ip','src_port','dst_ip','dst_port','src_tx','dst_tx']\n",
    "- output features:\n",
    "    - with (srcip, sport, dstip, dport, proto) as initial key:\n",
    "    - number of entries/connections: count(entries) grouped\n",
    "    - time_first_seen = ts1\n",
    "    - time_last_seen = ts2\n",
    "    - total time for flow (first_seen - current/end)\n",
    "    - bytes_up (sum src_tx)\n",
    "    - bytes_dw\n",
    "    - throughput_up (total bytes/total time)\n",
    "    - throughput_dw\n",
    "    - first_state\n",
    "    - last_state = (state)\n",
    "    - state_(state) : number of connections per state\n",
    "    - cidr_src_ip: get supernet string using ipaddr\n",
    "    - cidr_dst_ip\n",
    "    - pvt_srcip: private IPs should be declared as private (True/False)\n",
    "    - pvt_dstip\n",
    "    \n",
    "- If group by (src_ip, dst_ip):\n",
    "    - num_flows_tcp\n",
    "    - num_flows_udp\n",
    "    - dport_80, dport_8080, dport_443, dport_22, ... (well known ports: True/False)\n",
    "\n",
    "#### Notes:\n",
    "- Q. treat ports and ips as orthogonal features not integers?\n",
    "- Q. drop flow_tuple and time stamps and try?"
   ]
  },
  {
   "cell_type": "code",
   "execution_count": 205,
   "metadata": {},
   "outputs": [],
   "source": [
    "gp = df_orig.groupby(['src_ip', 'src_port', 'dst_ip', 'dst_port', 'ip_protocol'])"
   ]
  },
  {
   "cell_type": "code",
   "execution_count": 206,
   "metadata": {},
   "outputs": [],
   "source": [
    "df = gp['state'].count().to_frame().rename(columns={'state':'num_conns'})"
   ]
  },
  {
   "cell_type": "code",
   "execution_count": 81,
   "metadata": {},
   "outputs": [
    {
     "name": "stdout",
     "output_type": "stream",
     "text": [
      "Number of individual flows : 47334\n"
     ]
    }
   ],
   "source": [
    "print(\"Number of individual flows :\", len(df))"
   ]
  },
  {
   "cell_type": "code",
   "execution_count": 207,
   "metadata": {},
   "outputs": [],
   "source": [
    "df['time_first_seen'] = gp['ts'].first()\n",
    "df['time_last_seen'] = gp['ts'].last()\n",
    "df['time_flow'] = (df['time_last_seen'] - df['time_first_seen']).apply(lambda x: x.seconds)"
   ]
  },
  {
   "cell_type": "code",
   "execution_count": 208,
   "metadata": {},
   "outputs": [],
   "source": [
    "df['bytes_up'] = gp['src_tx'].sum()\n",
    "df['bytes_dw'] = gp['dst_tx'].sum()\n",
    "df['bytes_ratio'] = df['bytes_dw']/df['bytes_up']"
   ]
  },
  {
   "cell_type": "code",
   "execution_count": 209,
   "metadata": {},
   "outputs": [],
   "source": [
    "df['Bps_up'] = (df['bytes_up']/df['time_flow']).fillna(-99999)\n",
    "df['Bps_dw'] = (df['bytes_dw']/df['time_flow']).fillna(-99999)"
   ]
  },
  {
   "cell_type": "code",
   "execution_count": 210,
   "metadata": {},
   "outputs": [
    {
     "data": {
      "text/html": [
       "<div>\n",
       "<style scoped>\n",
       "    .dataframe tbody tr th:only-of-type {\n",
       "        vertical-align: middle;\n",
       "    }\n",
       "\n",
       "    .dataframe tbody tr th {\n",
       "        vertical-align: top;\n",
       "    }\n",
       "\n",
       "    .dataframe thead th {\n",
       "        text-align: right;\n",
       "    }\n",
       "</style>\n",
       "<table border=\"1\" class=\"dataframe\">\n",
       "  <thead>\n",
       "    <tr style=\"text-align: right;\">\n",
       "      <th></th>\n",
       "      <th></th>\n",
       "      <th></th>\n",
       "      <th></th>\n",
       "      <th></th>\n",
       "      <th>num_conns</th>\n",
       "      <th>time_first_seen</th>\n",
       "      <th>time_last_seen</th>\n",
       "      <th>time_flow</th>\n",
       "      <th>bytes_up</th>\n",
       "      <th>bytes_dw</th>\n",
       "      <th>bytes_ratio</th>\n",
       "      <th>Bps_up</th>\n",
       "      <th>Bps_dw</th>\n",
       "    </tr>\n",
       "    <tr>\n",
       "      <th>src_ip</th>\n",
       "      <th>src_port</th>\n",
       "      <th>dst_ip</th>\n",
       "      <th>dst_port</th>\n",
       "      <th>ip_protocol</th>\n",
       "      <th></th>\n",
       "      <th></th>\n",
       "      <th></th>\n",
       "      <th></th>\n",
       "      <th></th>\n",
       "      <th></th>\n",
       "      <th></th>\n",
       "      <th></th>\n",
       "      <th></th>\n",
       "    </tr>\n",
       "  </thead>\n",
       "  <tbody>\n",
       "    <tr>\n",
       "      <th rowspan=\"2\" valign=\"top\">0.0.0.0</th>\n",
       "      <th>68</th>\n",
       "      <th>255.255.255.255</th>\n",
       "      <th>67</th>\n",
       "      <th>udp</th>\n",
       "      <td>87</td>\n",
       "      <td>2017-01-27 16:24:45</td>\n",
       "      <td>2017-01-27 17:34:30</td>\n",
       "      <td>4185</td>\n",
       "      <td>153073</td>\n",
       "      <td>0</td>\n",
       "      <td>0.0</td>\n",
       "      <td>36.576583</td>\n",
       "      <td>0.0</td>\n",
       "    </tr>\n",
       "    <tr>\n",
       "      <th>5678</th>\n",
       "      <th>255.255.255.255</th>\n",
       "      <th>5678</th>\n",
       "      <th>udp</th>\n",
       "      <td>62</td>\n",
       "      <td>2017-01-27 16:24:58</td>\n",
       "      <td>2017-01-27 17:34:58</td>\n",
       "      <td>4200</td>\n",
       "      <td>14555</td>\n",
       "      <td>0</td>\n",
       "      <td>0.0</td>\n",
       "      <td>3.465476</td>\n",
       "      <td>0.0</td>\n",
       "    </tr>\n",
       "    <tr>\n",
       "      <th>10.1.0.39</th>\n",
       "      <th>138</th>\n",
       "      <th>10.1.255.255</th>\n",
       "      <th>138</th>\n",
       "      <th>udp</th>\n",
       "      <td>6</td>\n",
       "      <td>2017-01-27 16:28:41</td>\n",
       "      <td>2017-01-27 17:28:44</td>\n",
       "      <td>3603</td>\n",
       "      <td>2610</td>\n",
       "      <td>0</td>\n",
       "      <td>0.0</td>\n",
       "      <td>0.724396</td>\n",
       "      <td>0.0</td>\n",
       "    </tr>\n",
       "    <tr>\n",
       "      <th>10.1.1.1</th>\n",
       "      <th>5678</th>\n",
       "      <th>255.255.255.255</th>\n",
       "      <th>5678</th>\n",
       "      <th>udp</th>\n",
       "      <td>62</td>\n",
       "      <td>2017-01-27 16:24:58</td>\n",
       "      <td>2017-01-27 17:34:58</td>\n",
       "      <td>4200</td>\n",
       "      <td>7242</td>\n",
       "      <td>0</td>\n",
       "      <td>0.0</td>\n",
       "      <td>1.724286</td>\n",
       "      <td>0.0</td>\n",
       "    </tr>\n",
       "    <tr>\n",
       "      <th>10.1.1.12</th>\n",
       "      <th>3052</th>\n",
       "      <th>255.255.255.255</th>\n",
       "      <th>3052</th>\n",
       "      <th>udp</th>\n",
       "      <td>90</td>\n",
       "      <td>2017-01-27 16:24:44</td>\n",
       "      <td>2017-01-27 17:34:45</td>\n",
       "      <td>4201</td>\n",
       "      <td>101520</td>\n",
       "      <td>0</td>\n",
       "      <td>0.0</td>\n",
       "      <td>24.165675</td>\n",
       "      <td>0.0</td>\n",
       "    </tr>\n",
       "  </tbody>\n",
       "</table>\n",
       "</div>"
      ],
      "text/plain": [
       "                                                         num_conns  \\\n",
       "src_ip    src_port dst_ip          dst_port ip_protocol              \n",
       "0.0.0.0   68       255.255.255.255 67       udp                 87   \n",
       "          5678     255.255.255.255 5678     udp                 62   \n",
       "10.1.0.39 138      10.1.255.255    138      udp                  6   \n",
       "10.1.1.1  5678     255.255.255.255 5678     udp                 62   \n",
       "10.1.1.12 3052     255.255.255.255 3052     udp                 90   \n",
       "\n",
       "                                                            time_first_seen  \\\n",
       "src_ip    src_port dst_ip          dst_port ip_protocol                       \n",
       "0.0.0.0   68       255.255.255.255 67       udp         2017-01-27 16:24:45   \n",
       "          5678     255.255.255.255 5678     udp         2017-01-27 16:24:58   \n",
       "10.1.0.39 138      10.1.255.255    138      udp         2017-01-27 16:28:41   \n",
       "10.1.1.1  5678     255.255.255.255 5678     udp         2017-01-27 16:24:58   \n",
       "10.1.1.12 3052     255.255.255.255 3052     udp         2017-01-27 16:24:44   \n",
       "\n",
       "                                                             time_last_seen  \\\n",
       "src_ip    src_port dst_ip          dst_port ip_protocol                       \n",
       "0.0.0.0   68       255.255.255.255 67       udp         2017-01-27 17:34:30   \n",
       "          5678     255.255.255.255 5678     udp         2017-01-27 17:34:58   \n",
       "10.1.0.39 138      10.1.255.255    138      udp         2017-01-27 17:28:44   \n",
       "10.1.1.1  5678     255.255.255.255 5678     udp         2017-01-27 17:34:58   \n",
       "10.1.1.12 3052     255.255.255.255 3052     udp         2017-01-27 17:34:45   \n",
       "\n",
       "                                                         time_flow  bytes_up  \\\n",
       "src_ip    src_port dst_ip          dst_port ip_protocol                        \n",
       "0.0.0.0   68       255.255.255.255 67       udp               4185    153073   \n",
       "          5678     255.255.255.255 5678     udp               4200     14555   \n",
       "10.1.0.39 138      10.1.255.255    138      udp               3603      2610   \n",
       "10.1.1.1  5678     255.255.255.255 5678     udp               4200      7242   \n",
       "10.1.1.12 3052     255.255.255.255 3052     udp               4201    101520   \n",
       "\n",
       "                                                         bytes_dw  \\\n",
       "src_ip    src_port dst_ip          dst_port ip_protocol             \n",
       "0.0.0.0   68       255.255.255.255 67       udp                 0   \n",
       "          5678     255.255.255.255 5678     udp                 0   \n",
       "10.1.0.39 138      10.1.255.255    138      udp                 0   \n",
       "10.1.1.1  5678     255.255.255.255 5678     udp                 0   \n",
       "10.1.1.12 3052     255.255.255.255 3052     udp                 0   \n",
       "\n",
       "                                                         bytes_ratio  \\\n",
       "src_ip    src_port dst_ip          dst_port ip_protocol                \n",
       "0.0.0.0   68       255.255.255.255 67       udp                  0.0   \n",
       "          5678     255.255.255.255 5678     udp                  0.0   \n",
       "10.1.0.39 138      10.1.255.255    138      udp                  0.0   \n",
       "10.1.1.1  5678     255.255.255.255 5678     udp                  0.0   \n",
       "10.1.1.12 3052     255.255.255.255 3052     udp                  0.0   \n",
       "\n",
       "                                                            Bps_up  Bps_dw  \n",
       "src_ip    src_port dst_ip          dst_port ip_protocol                     \n",
       "0.0.0.0   68       255.255.255.255 67       udp          36.576583     0.0  \n",
       "          5678     255.255.255.255 5678     udp           3.465476     0.0  \n",
       "10.1.0.39 138      10.1.255.255    138      udp           0.724396     0.0  \n",
       "10.1.1.1  5678     255.255.255.255 5678     udp           1.724286     0.0  \n",
       "10.1.1.12 3052     255.255.255.255 3052     udp          24.165675     0.0  "
      ]
     },
     "execution_count": 210,
     "metadata": {},
     "output_type": "execute_result"
    }
   ],
   "source": [
    "df.head()"
   ]
  },
  {
   "cell_type": "code",
   "execution_count": 211,
   "metadata": {},
   "outputs": [],
   "source": [
    "df['first_state'] = gp['state'].first()\n",
    "df['last_state'] = gp['state'].last()"
   ]
  },
  {
   "cell_type": "code",
   "execution_count": 212,
   "metadata": {},
   "outputs": [],
   "source": [
    "from collections import Counter\n",
    "\n",
    "df_state_count = gp['state'].apply(lambda x: Counter(x)).unstack().fillna(0)\n",
    "df_state_count = df_state_count.rename(columns = {col: \"state_\"+col for col in df_state_count.columns})"
   ]
  },
  {
   "cell_type": "code",
   "execution_count": 213,
   "metadata": {},
   "outputs": [],
   "source": [
    "df = df.join(df_state_count).reset_index()"
   ]
  },
  {
   "cell_type": "code",
   "execution_count": 238,
   "metadata": {},
   "outputs": [],
   "source": [
    "df['cidr_src_ip'] = df['src_ip'].apply(lambda x: ipaddress.ip_network(x))\n",
    "df['cidr_dst_ip'] = df['dst_ip'].apply(lambda x: ipaddress.ip_network(x))\n",
    "df['pvt_src_ip'] = df['src_ip'].apply(lambda x: ipaddress.IPv4Address(x).is_private)\n",
    "df['pvt_dst_ip'] = df['dst_ip'].apply(lambda x: ipaddress.IPv4Address(x).is_private)"
   ]
  },
  {
   "cell_type": "markdown",
   "metadata": {},
   "source": [
    "#### add port_NUM orthogonal features (1/0)\n",
    "- port_80, port_8080, port_443, port_53, port_22\n",
    "- port_3306: mysql\n",
    "- port_5772: rambitMQ\n",
    "- port_1194: openvpn"
   ]
  },
  {
   "cell_type": "code",
   "execution_count": 262,
   "metadata": {},
   "outputs": [],
   "source": [
    "# TODO: add categorical columns for famous ports/those with most connections\n",
    "for port in [80, 8080, 443, 53, 22, 3306, 5772, 1194]:\n",
    "    df['port_'+str(port)] = 0\n",
    "    df.loc[df['dst_port']==port, 'port_'+str(port)] = 1\n",
    "    \n",
    "df['proto_tcp'] = 0\n",
    "df.loc[df['ip_protocol']=='tcp', 'proto_tcp'] = 1"
   ]
  },
  {
   "cell_type": "code",
   "execution_count": 264,
   "metadata": {},
   "outputs": [],
   "source": [
    "df.to_pickle('df_flow_features.pkl')"
   ]
  },
  {
   "cell_type": "markdown",
   "metadata": {},
   "source": [
    "# Clustering\n",
    "- try DBSCAN, PCA, k-means, hierarchical"
   ]
  },
  {
   "cell_type": "code",
   "execution_count": 257,
   "metadata": {},
   "outputs": [],
   "source": [
    "from matplotlib import pyplot as plt"
   ]
  },
  {
   "cell_type": "markdown",
   "metadata": {},
   "source": [
    "### Try PCA\n",
    "- PCA is best for continuous variables, so drop most categorical ones, leave ports and ip protocol\n",
    "- no target - just seeing components to get intuition about dataset.\n",
    "- Or maybe 'srcip' or 'dstip' as target (to cluster clients)"
   ]
  },
  {
   "cell_type": "code",
   "execution_count": 269,
   "metadata": {},
   "outputs": [],
   "source": [
    "from sklearn import decomposition\n",
    "#from sklearn.model_selection import train_test_split\n",
    "from sklearn.metrics import accuracy_score, roc_auc_score"
   ]
  },
  {
   "cell_type": "code",
   "execution_count": 270,
   "metadata": {},
   "outputs": [],
   "source": [
    "features = ['num_conns', 'proto_tcp', 'time_flow', 'bytes_up', 'bytes_dw', 'state_closed',\n",
    "            'state_closing', 'state_connecting', 'state_established', 'state_new', 'state_reset',\n",
    "            'port_80', 'port_8080', 'port_443', 'port_53', 'port_22', 'port_3306', 'port_5772',\n",
    "            'port_1194']"
   ]
  },
  {
   "cell_type": "code",
   "execution_count": 271,
   "metadata": {},
   "outputs": [],
   "source": [
    "X = df.loc[:, features].values\n",
    "\n",
    "pca = decomposition.PCA(n_components=2)\n",
    "X_centered = X - X.mean(axis=0)\n",
    "pca.fit(X_centered)\n",
    "X_pca = pca.transform(X_centered)\n"
   ]
  },
  {
   "cell_type": "code",
   "execution_count": 288,
   "metadata": {},
   "outputs": [
    {
     "data": {
      "text/plain": [
       "[<matplotlib.lines.Line2D at 0x13a118438>]"
      ]
     },
     "execution_count": 288,
     "metadata": {},
     "output_type": "execute_result"
    },
    {
     "data": {
      "image/png": "[encoded data removed]",
      "text/plain": [
       "<Figure size 432x288 with 1 Axes>"
      ]
     },
     "metadata": {
      "needs_background": "light"
     },
     "output_type": "display_data"
    }
   ],
   "source": [
    "# Plotting the results of PCA\n",
    "plt.plot(X_pca[:, 0], X_pca[:, 1], '+')\n"
   ]
  },
  {
   "cell_type": "markdown",
   "metadata": {},
   "source": [
    "# k-means"
   ]
  },
  {
   "cell_type": "code",
   "execution_count": null,
   "metadata": {},
   "outputs": [],
   "source": [
    "#from sklearn.datasets.samples_generator import make_blobs\n",
    "from sklearn.preprocessing import StandardScaler\n",
    "from sklearn.cluster import KMeans"
   ]
  },
  {
   "cell_type": "code",
   "execution_count": 256,
   "metadata": {},
   "outputs": [],
   "source": [
    "n_neighbors = 5\n",
    "alpha = 0.8\n",
    "scale = 0.01"
   ]
  },
  {
   "cell_type": "code",
   "execution_count": null,
   "metadata": {},
   "outputs": [],
   "source": []
  },
  {
   "cell_type": "markdown",
   "metadata": {},
   "source": [
    "## Neural Network"
   ]
  },
  {
   "cell_type": "code",
   "execution_count": 5,
   "metadata": {},
   "outputs": [],
   "source": [
    "import tensorflow as tf"
   ]
  },
  {
   "cell_type": "code",
   "execution_count": null,
   "metadata": {},
   "outputs": [],
   "source": []
  }
 ],
 "metadata": {
  "kernelspec": {
   "display_name": "Python 3",
   "language": "python",
   "name": "python3"
  },
  "language_info": {
   "codemirror_mode": {
    "name": "ipython",
    "version": 3
   },
   "file_extension": ".py",
   "mimetype": "text/x-python",
   "name": "python",
   "nbconvert_exporter": "python",
   "pygments_lexer": "ipython3",
   "version": "3.7.1"
  }
 },
 "nbformat": 4,
 "nbformat_minor": 2
}
