{
 "cells": [
  {
   "cell_type": "markdown",
   "metadata": {},
   "source": [
    "Testing PCAP file parisng"
   ]
  },
  {
   "cell_type": "code",
   "execution_count": 1,
   "metadata": {},
   "outputs": [
    {
     "name": "stderr",
     "output_type": "stream",
     "text": [
      "WARNING: Wireshark is installed, but cannot read manuf !\n"
     ]
    }
   ],
   "source": [
    "import sys\n",
    "import logging\n",
    "from scapy.all import *\n",
    "from scapy.layers.l2 import Ether\n",
    "import pandas as pd\n",
    "from tqdm import tqdm\n",
    "import matplotlib.pyplot as plt\n",
    "import numpy as np\n",
    "\n",
    "import time"
   ]
  },
  {
   "cell_type": "code",
   "execution_count": 2,
   "metadata": {},
   "outputs": [],
   "source": [
    "# Set up logging\n",
    "logging.basicConfig(level=logging.INFO, format='%(message)s')\n",
    "logger = logging.getLogger(__name__)"
   ]
  },
  {
   "cell_type": "code",
   "execution_count": null,
   "metadata": {},
   "outputs": [],
   "source": [
    "def read_pcap(pcap_file):\n",
    "    try:\n",
    "        packets = RawPcapReader(pcap_file)\n",
    "    except FileNotFoundError:\n",
    "        logger.error(f\"PCAP file not found: {pcap_file}\")\n",
    "        sys.exit(1)\n",
    "    except Scapy_Exception as e:\n",
    "        logger.error(f\"Error reading PCAP file: {e}\")\n",
    "        sys.exit(1)\n",
    "    return packets\n"
   ]
  },
  {
   "cell_type": "code",
   "execution_count": null,
   "metadata": {},
   "outputs": [],
   "source": [
    "def printable_timestamp(ts, resol):\n",
    "    ts_sec = ts // resol\n",
    "    ts_subsec = ts % resol\n",
    "    ts_sec_str = time.strftime('%Y-%m-%d %H:%M:%S', time.localtime(ts_sec))\n",
    "    return '{}.{}'.format(ts_sec_str, ts_subsec)"
   ]
  },
  {
   "cell_type": "code",
   "execution_count": 54,
   "metadata": {},
   "outputs": [],
   "source": [
    "def extract_packet_data(packets):\n",
    "    packet_data = []\n",
    "    flag = 0\n",
    "    for (pkt_data, pkt_metadata,) in tqdm(packets, desc=\"Processing packets\", unit=\"packet\"):\n",
    "        ether_pkt  = Ether(pkt_data)\n",
    "       \n",
    "        if 'type' not in ether_pkt.fields:\n",
    "            # LLC frames will have 'len' instead of 'type'.\n",
    "            # We disregard those\n",
    "            continue\n",
    "\n",
    "        if ether_pkt.type != 0x0800:\n",
    "            # disregard non-IPv4 packets\n",
    "            continue\n",
    "\n",
    "        if ether_pkt.haslayer(IP):    \n",
    "            packet = ether_pkt[IP]\n",
    "    \n",
    "            src_port = None\n",
    "            dst_port = None\n",
    "            src_ip = packet.src\n",
    "            dst_ip = packet.dst\n",
    "            pkg_len = packet.len\n",
    "    \n",
    "            if ether_pkt.haslayer(TCP):\n",
    "               #packet_tcp = packet[TCP]\n",
    "               src_port = int(packet.sport)\n",
    "               dst_port = int(packet.dport)\n",
    "               flag = int(packet.flags)\n",
    "            \n",
    "            if ether_pkt.haslayer(UDP):\n",
    "               #packet_tcp = packet[UDP]\n",
    "               src_port = int(packet.sport)\n",
    "               dst_port = int(packet.dport)\n",
    "               #flag = packet_tcp.flags\n",
    "               \n",
    "            protocol = packet.proto\n",
    "    \n",
    "            \n",
    "            timestamp = pkt_metadata.sec + (pkt_metadata.usec)/1000000\n",
    "            #if count == 0:\n",
    "                #first_timestamp = timestamp\n",
    "                #relative_timestamp = 0.0\n",
    "            #else:\n",
    "                #relative_timestamp = timestamp - first_timestamp\n",
    "    \n",
    "            \n",
    "            pkt_size = pkt_metadata.caplen # Get packet size\n",
    "                    \n",
    "            packet_data.append({\"src_ip\": src_ip, \"dst_ip\": dst_ip, \"protocol\": protocol, \"src_port\": src_port,\"dst_port\": dst_port,\"pkt_size\": pkt_size,\"flags\":flag, \"timestamp\": str(round(timestamp, 6))})\n",
    "\n",
    "    return pd.DataFrame(packet_data)"
   ]
  },
  {
   "cell_type": "code",
   "execution_count": 55,
   "metadata": {},
   "outputs": [],
   "source": [
    "def protocol_name(number):\n",
    "    protocol_dict = {1: 'ICMP', 6: 'TCP', 17: 'UDP'}\n",
    "    return protocol_dict.get(number, f\"Unknown({number})\")"
   ]
  },
  {
   "cell_type": "code",
   "execution_count": 57,
   "metadata": {},
   "outputs": [],
   "source": [
    "packets = read_pcap('local_dump.pcap')"
   ]
  },
  {
   "cell_type": "code",
   "execution_count": 58,
   "metadata": {},
   "outputs": [
    {
     "name": "stderr",
     "output_type": "stream",
     "text": [
      "Processing packets: 984packet [00:00, 2278.97packet/s]\n"
     ]
    }
   ],
   "source": [
    "df = extract_packet_data(packets)"
   ]
  },
  {
   "cell_type": "code",
   "execution_count": 59,
   "metadata": {},
   "outputs": [
    {
     "data": {
      "text/html": [
       "<div>\n",
       "<style scoped>\n",
       "    .dataframe tbody tr th:only-of-type {\n",
       "        vertical-align: middle;\n",
       "    }\n",
       "\n",
       "    .dataframe tbody tr th {\n",
       "        vertical-align: top;\n",
       "    }\n",
       "\n",
       "    .dataframe thead th {\n",
       "        text-align: right;\n",
       "    }\n",
       "</style>\n",
       "<table border=\"1\" class=\"dataframe\">\n",
       "  <thead>\n",
       "    <tr style=\"text-align: right;\">\n",
       "      <th></th>\n",
       "      <th>src_ip</th>\n",
       "      <th>dst_ip</th>\n",
       "      <th>protocol</th>\n",
       "      <th>src_port</th>\n",
       "      <th>dst_port</th>\n",
       "      <th>pkt_size</th>\n",
       "      <th>flags</th>\n",
       "      <th>timestamp</th>\n",
       "    </tr>\n",
       "  </thead>\n",
       "  <tbody>\n",
       "    <tr>\n",
       "      <th>0</th>\n",
       "      <td>149.154.167.99</td>\n",
       "      <td>192.168.98.57</td>\n",
       "      <td>6</td>\n",
       "      <td>443</td>\n",
       "      <td>50788</td>\n",
       "      <td>60</td>\n",
       "      <td>2</td>\n",
       "      <td>1719997586.519905</td>\n",
       "    </tr>\n",
       "    <tr>\n",
       "      <th>1</th>\n",
       "      <td>52.112.164.167</td>\n",
       "      <td>192.168.98.57</td>\n",
       "      <td>17</td>\n",
       "      <td>3479</td>\n",
       "      <td>50012</td>\n",
       "      <td>148</td>\n",
       "      <td>2</td>\n",
       "      <td>1719997586.534998</td>\n",
       "    </tr>\n",
       "    <tr>\n",
       "      <th>2</th>\n",
       "      <td>52.112.164.167</td>\n",
       "      <td>192.168.98.57</td>\n",
       "      <td>17</td>\n",
       "      <td>3481</td>\n",
       "      <td>50058</td>\n",
       "      <td>114</td>\n",
       "      <td>2</td>\n",
       "      <td>1719997586.556402</td>\n",
       "    </tr>\n",
       "    <tr>\n",
       "      <th>3</th>\n",
       "      <td>52.112.164.167</td>\n",
       "      <td>192.168.98.57</td>\n",
       "      <td>17</td>\n",
       "      <td>3479</td>\n",
       "      <td>50012</td>\n",
       "      <td>148</td>\n",
       "      <td>2</td>\n",
       "      <td>1719997586.557581</td>\n",
       "    </tr>\n",
       "    <tr>\n",
       "      <th>4</th>\n",
       "      <td>52.112.164.167</td>\n",
       "      <td>192.168.98.57</td>\n",
       "      <td>17</td>\n",
       "      <td>3479</td>\n",
       "      <td>50012</td>\n",
       "      <td>173</td>\n",
       "      <td>2</td>\n",
       "      <td>1719997586.575281</td>\n",
       "    </tr>\n",
       "    <tr>\n",
       "      <th>...</th>\n",
       "      <td>...</td>\n",
       "      <td>...</td>\n",
       "      <td>...</td>\n",
       "      <td>...</td>\n",
       "      <td>...</td>\n",
       "      <td>...</td>\n",
       "      <td>...</td>\n",
       "      <td>...</td>\n",
       "    </tr>\n",
       "    <tr>\n",
       "      <th>884</th>\n",
       "      <td>52.112.164.167</td>\n",
       "      <td>192.168.98.57</td>\n",
       "      <td>17</td>\n",
       "      <td>3481</td>\n",
       "      <td>50056</td>\n",
       "      <td>166</td>\n",
       "      <td>2</td>\n",
       "      <td>1719997594.513788</td>\n",
       "    </tr>\n",
       "    <tr>\n",
       "      <th>885</th>\n",
       "      <td>192.168.98.57</td>\n",
       "      <td>52.112.164.167</td>\n",
       "      <td>17</td>\n",
       "      <td>50012</td>\n",
       "      <td>3479</td>\n",
       "      <td>158</td>\n",
       "      <td>2</td>\n",
       "      <td>1719997594.533349</td>\n",
       "    </tr>\n",
       "    <tr>\n",
       "      <th>886</th>\n",
       "      <td>192.168.98.57</td>\n",
       "      <td>149.154.167.99</td>\n",
       "      <td>6</td>\n",
       "      <td>50788</td>\n",
       "      <td>443</td>\n",
       "      <td>221</td>\n",
       "      <td>2</td>\n",
       "      <td>1719997594.534322</td>\n",
       "    </tr>\n",
       "    <tr>\n",
       "      <th>887</th>\n",
       "      <td>149.154.167.99</td>\n",
       "      <td>192.168.98.57</td>\n",
       "      <td>6</td>\n",
       "      <td>443</td>\n",
       "      <td>50788</td>\n",
       "      <td>60</td>\n",
       "      <td>2</td>\n",
       "      <td>1719997594.545343</td>\n",
       "    </tr>\n",
       "    <tr>\n",
       "      <th>888</th>\n",
       "      <td>52.112.164.167</td>\n",
       "      <td>192.168.98.57</td>\n",
       "      <td>17</td>\n",
       "      <td>3481</td>\n",
       "      <td>50056</td>\n",
       "      <td>166</td>\n",
       "      <td>2</td>\n",
       "      <td>1719997594.615513</td>\n",
       "    </tr>\n",
       "  </tbody>\n",
       "</table>\n",
       "<p>889 rows × 8 columns</p>\n",
       "</div>"
      ],
      "text/plain": [
       "             src_ip          dst_ip  protocol  src_port  dst_port  pkt_size  \\\n",
       "0    149.154.167.99   192.168.98.57         6       443     50788        60   \n",
       "1    52.112.164.167   192.168.98.57        17      3479     50012       148   \n",
       "2    52.112.164.167   192.168.98.57        17      3481     50058       114   \n",
       "3    52.112.164.167   192.168.98.57        17      3479     50012       148   \n",
       "4    52.112.164.167   192.168.98.57        17      3479     50012       173   \n",
       "..              ...             ...       ...       ...       ...       ...   \n",
       "884  52.112.164.167   192.168.98.57        17      3481     50056       166   \n",
       "885   192.168.98.57  52.112.164.167        17     50012      3479       158   \n",
       "886   192.168.98.57  149.154.167.99         6     50788       443       221   \n",
       "887  149.154.167.99   192.168.98.57         6       443     50788        60   \n",
       "888  52.112.164.167   192.168.98.57        17      3481     50056       166   \n",
       "\n",
       "     flags          timestamp  \n",
       "0        2  1719997586.519905  \n",
       "1        2  1719997586.534998  \n",
       "2        2  1719997586.556402  \n",
       "3        2  1719997586.557581  \n",
       "4        2  1719997586.575281  \n",
       "..     ...                ...  \n",
       "884      2  1719997594.513788  \n",
       "885      2  1719997594.533349  \n",
       "886      2  1719997594.534322  \n",
       "887      2  1719997594.545343  \n",
       "888      2  1719997594.615513  \n",
       "\n",
       "[889 rows x 8 columns]"
      ]
     },
     "execution_count": 59,
     "metadata": {},
     "output_type": "execute_result"
    }
   ],
   "source": [
    "df"
   ]
  },
  {
   "cell_type": "markdown",
   "metadata": {},
   "source": [
    "Straem packeges test"
   ]
  },
  {
   "cell_type": "code",
   "execution_count": 3,
   "metadata": {},
   "outputs": [],
   "source": [
    "def packet_callback(packet):\n",
    "    if packet[IP].proto == 6:  # ICMP protocol\n",
    "        print(f\"ICMP packet from {packet[IP].src}\")"
   ]
  },
  {
   "cell_type": "code",
   "execution_count": 4,
   "metadata": {},
   "outputs": [
    {
     "ename": "IndexError",
     "evalue": "Layer [IP] not found",
     "output_type": "error",
     "traceback": [
      "\u001b[1;31m---------------------------------------------------------------------------\u001b[0m",
      "\u001b[1;31mIndexError\u001b[0m                                Traceback (most recent call last)",
      "Cell \u001b[1;32mIn[4], line 1\u001b[0m\n\u001b[1;32m----> 1\u001b[0m \u001b[43msniff\u001b[49m\u001b[43m(\u001b[49m\u001b[43mprn\u001b[49m\u001b[38;5;241;43m=\u001b[39;49m\u001b[43mpacket_callback\u001b[49m\u001b[43m,\u001b[49m\u001b[43m \u001b[49m\u001b[43mstore\u001b[49m\u001b[38;5;241;43m=\u001b[39;49m\u001b[38;5;241;43m0\u001b[39;49m\u001b[43m)\u001b[49m\n",
      "File \u001b[1;32mc:\\Python310\\lib\\site-packages\\scapy\\sendrecv.py:1311\u001b[0m, in \u001b[0;36msniff\u001b[1;34m(*args, **kwargs)\u001b[0m\n\u001b[0;32m   1307\u001b[0m \u001b[38;5;129m@conf\u001b[39m\u001b[38;5;241m.\u001b[39mcommands\u001b[38;5;241m.\u001b[39mregister\n\u001b[0;32m   1308\u001b[0m \u001b[38;5;28;01mdef\u001b[39;00m \u001b[38;5;21msniff\u001b[39m(\u001b[38;5;241m*\u001b[39margs, \u001b[38;5;241m*\u001b[39m\u001b[38;5;241m*\u001b[39mkwargs):\n\u001b[0;32m   1309\u001b[0m     \u001b[38;5;66;03m# type: (*Any, **Any) -> PacketList\u001b[39;00m\n\u001b[0;32m   1310\u001b[0m     sniffer \u001b[38;5;241m=\u001b[39m AsyncSniffer()\n\u001b[1;32m-> 1311\u001b[0m     sniffer\u001b[38;5;241m.\u001b[39m_run(\u001b[38;5;241m*\u001b[39margs, \u001b[38;5;241m*\u001b[39m\u001b[38;5;241m*\u001b[39mkwargs)\n\u001b[0;32m   1312\u001b[0m     \u001b[38;5;28;01mreturn\u001b[39;00m cast(PacketList, sniffer\u001b[38;5;241m.\u001b[39mresults)\n",
      "File \u001b[1;32mc:\\Python310\\lib\\site-packages\\scapy\\sendrecv.py:1254\u001b[0m, in \u001b[0;36mAsyncSniffer._run\u001b[1;34m(self, count, store, offline, quiet, prn, lfilter, L2socket, timeout, opened_socket, stop_filter, iface, started_callback, session, session_kwargs, **karg)\u001b[0m\n\u001b[0;32m   1252\u001b[0m p\u001b[38;5;241m.\u001b[39msniffed_on \u001b[38;5;241m=\u001b[39m sniff_sockets[s]\n\u001b[0;32m   1253\u001b[0m \u001b[38;5;66;03m# on_packet_received handles the prn/storage\u001b[39;00m\n\u001b[1;32m-> 1254\u001b[0m \u001b[43msession\u001b[49m\u001b[38;5;241;43m.\u001b[39;49m\u001b[43mon_packet_received\u001b[49m\u001b[43m(\u001b[49m\u001b[43mp\u001b[49m\u001b[43m)\u001b[49m\n\u001b[0;32m   1255\u001b[0m \u001b[38;5;66;03m# check\u001b[39;00m\n\u001b[0;32m   1256\u001b[0m \u001b[38;5;28;01mif\u001b[39;00m (stop_filter \u001b[38;5;129;01mand\u001b[39;00m stop_filter(p)) \u001b[38;5;129;01mor\u001b[39;00m \\\n\u001b[0;32m   1257\u001b[0m         (\u001b[38;5;241m0\u001b[39m \u001b[38;5;241m<\u001b[39m count \u001b[38;5;241m<\u001b[39m\u001b[38;5;241m=\u001b[39m session\u001b[38;5;241m.\u001b[39mcount):\n",
      "File \u001b[1;32mc:\\Python310\\lib\\site-packages\\scapy\\sessions.py:109\u001b[0m, in \u001b[0;36mDefaultSession.on_packet_received\u001b[1;34m(self, pkt)\u001b[0m\n\u001b[0;32m    107\u001b[0m     \u001b[38;5;28mself\u001b[39m\u001b[38;5;241m.\u001b[39mlst\u001b[38;5;241m.\u001b[39mappend(pkt)\n\u001b[0;32m    108\u001b[0m \u001b[38;5;28;01mif\u001b[39;00m \u001b[38;5;28mself\u001b[39m\u001b[38;5;241m.\u001b[39mprn:\n\u001b[1;32m--> 109\u001b[0m     result \u001b[38;5;241m=\u001b[39m \u001b[38;5;28;43mself\u001b[39;49m\u001b[38;5;241;43m.\u001b[39;49m\u001b[43mprn\u001b[49m\u001b[43m(\u001b[49m\u001b[43mpkt\u001b[49m\u001b[43m)\u001b[49m\n\u001b[0;32m    110\u001b[0m     \u001b[38;5;28;01mif\u001b[39;00m result \u001b[38;5;129;01mis\u001b[39;00m \u001b[38;5;129;01mnot\u001b[39;00m \u001b[38;5;28;01mNone\u001b[39;00m:\n\u001b[0;32m    111\u001b[0m         \u001b[38;5;28mprint\u001b[39m(result)\n",
      "Cell \u001b[1;32mIn[3], line 2\u001b[0m, in \u001b[0;36mpacket_callback\u001b[1;34m(packet)\u001b[0m\n\u001b[0;32m      1\u001b[0m \u001b[38;5;28;01mdef\u001b[39;00m \u001b[38;5;21mpacket_callback\u001b[39m(packet):\n\u001b[1;32m----> 2\u001b[0m     \u001b[38;5;28;01mif\u001b[39;00m \u001b[43mpacket\u001b[49m\u001b[43m[\u001b[49m\u001b[43mIP\u001b[49m\u001b[43m]\u001b[49m\u001b[38;5;241m.\u001b[39mproto \u001b[38;5;241m==\u001b[39m \u001b[38;5;241m6\u001b[39m:  \u001b[38;5;66;03m# ICMP protocol\u001b[39;00m\n\u001b[0;32m      3\u001b[0m         \u001b[38;5;28mprint\u001b[39m(\u001b[38;5;124mf\u001b[39m\u001b[38;5;124m\"\u001b[39m\u001b[38;5;124mICMP packet from \u001b[39m\u001b[38;5;132;01m{\u001b[39;00mpacket[IP]\u001b[38;5;241m.\u001b[39msrc\u001b[38;5;132;01m}\u001b[39;00m\u001b[38;5;124m\"\u001b[39m)\n",
      "File \u001b[1;32mc:\\Python310\\lib\\site-packages\\scapy\\packet.py:1327\u001b[0m, in \u001b[0;36mPacket.__getitem__\u001b[1;34m(self, cls)\u001b[0m\n\u001b[0;32m   1325\u001b[0m     \u001b[38;5;28;01melse\u001b[39;00m:\n\u001b[0;32m   1326\u001b[0m         name \u001b[38;5;241m=\u001b[39m cast(\u001b[38;5;28mstr\u001b[39m, lname)\n\u001b[1;32m-> 1327\u001b[0m     \u001b[38;5;28;01mraise\u001b[39;00m \u001b[38;5;167;01mIndexError\u001b[39;00m(\u001b[38;5;124m\"\u001b[39m\u001b[38;5;124mLayer [\u001b[39m\u001b[38;5;132;01m%s\u001b[39;00m\u001b[38;5;124m] not found\u001b[39m\u001b[38;5;124m\"\u001b[39m \u001b[38;5;241m%\u001b[39m name)\n\u001b[0;32m   1328\u001b[0m \u001b[38;5;28;01mreturn\u001b[39;00m ret\n",
      "\u001b[1;31mIndexError\u001b[0m: Layer [IP] not found"
     ]
    }
   ],
   "source": [
    "sniff(prn=packet_callback, store=0)"
   ]
  },
  {
   "cell_type": "code",
   "execution_count": null,
   "metadata": {},
   "outputs": [],
   "source": []
  }
 ],
 "metadata": {
  "kernelspec": {
   "display_name": "Python 3",
   "language": "python",
   "name": "python3"
  },
  "language_info": {
   "codemirror_mode": {
    "name": "ipython",
    "version": 3
   },
   "file_extension": ".py",
   "mimetype": "text/x-python",
   "name": "python",
   "nbconvert_exporter": "python",
   "pygments_lexer": "ipython3",
   "version": "3.10.4"
  }
 },
 "nbformat": 4,
 "nbformat_minor": 2
}
