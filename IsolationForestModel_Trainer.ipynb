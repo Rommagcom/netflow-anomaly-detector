{
 "cells": [
  {
   "cell_type": "markdown",
   "metadata": {},
   "source": [
    "Train Model using  NetFlow files from csv format"
   ]
  },
  {
   "cell_type": "markdown",
   "metadata": {},
   "source": [
    "Import dependecies\n",
    "pip install numpy,pandas,xgboost,sklearn,pickle"
   ]
  },
  {
   "cell_type": "code",
   "execution_count": 1,
   "metadata": {},
   "outputs": [],
   "source": [
    "import numpy as np\n",
    "import pandas as pd\n",
    "import matplotlib.pyplot as plt\n",
    "import xgboost as xgb\n",
    "from sklearn.decomposition import PCA\n",
    "from sklearn.naive_bayes import GaussianNB\n",
    "from sklearn.linear_model import LogisticRegression\n",
    "from sklearn.neighbors import KNeighborsClassifier,LocalOutlierFactor\n",
    "from sklearn.preprocessing import RobustScaler\n",
    "from sklearn.ensemble import RandomForestClassifier,IsolationForest\n",
    "from sklearn.cluster import DBSCAN,KMeans\n",
    "from sklearn.model_selection import train_test_split\n",
    "from sklearn import metrics\n",
    "from sklearn import model_selection\n",
    "from pickle import dump\n",
    "import time\n",
    "from pickle import load"
   ]
  },
  {
   "cell_type": "markdown",
   "metadata": {},
   "source": [
    "Data set can be downloaded from here"
   ]
  },
  {
   "cell_type": "markdown",
   "metadata": {},
   "source": [
    "https://rdm.uq.edu.au/files/650f1fa0-ef9c-11ed-b5f6-b1a04f482c13"
   ]
  },
  {
   "cell_type": "markdown",
   "metadata": {},
   "source": [
    "Columns needed from csv files\n",
    "Example:\n",
    "172.31.66.17,51128,23.36.69.189,443,6,91.0,152,0,3,0,194,4285680,0,anomaly_name\n",
    "\n",
    "After data normalization some field will be dropped\n",
    "'src_ip', 'dst_ip','l7_proto','anomaly'\n",
    "In this way these values can be written randomly and will be not used in learning process"
   ]
  },
  {
   "cell_type": "markdown",
   "metadata": {},
   "source": [
    "field 'label' if equels 0 - is normal, if equals 1 - is anomaly, training model dont take it in to cosideration, just needed for validation"
   ]
  },
  {
   "cell_type": "code",
   "execution_count": 2,
   "metadata": {},
   "outputs": [],
   "source": [
    "flow_fields = [\n",
    "    \"src_ip\",\n",
    "    \"src_port\",\n",
    "    \"dst_ip\",\n",
    "    \"dst_port\",\n",
    "    \"ip_protocol\",\n",
    "    \"l7_proto\",\n",
    "    \"in_bytes\",\n",
    "    \"out_bytes\",\n",
    "    \"in_pkts\",\n",
    "    \"out_pkts\",\n",
    "    \"tcp_flags\",\n",
    "    \"duration\",\n",
    "    \"label\",\n",
    "    \"anomaly\",\n",
    "    \"notneeded\"\n",
    "]\n",
    "\n",
    "with open(\"datasets/NF-UQ-NIDS.csv\", \"r\") as csvfile:\n",
    "    # pass input data stream as open(\"data.csv\", \"r\") to csv.reader for testing\n",
    "    # read and process line by line don't read into list\n",
    "    df_new = pd.read_csv(csvfile, names=flow_fields)"
   ]
  },
  {
   "cell_type": "code",
   "execution_count": 69,
   "metadata": {},
   "outputs": [],
   "source": [
    "df_src_msk = df_new['anomaly'] == 'Benign'\n",
    "df_src = df_new[df_src_msk]"
   ]
  },
  {
   "cell_type": "markdown",
   "metadata": {},
   "source": [
    "Scaler for data standartization"
   ]
  },
  {
   "cell_type": "code",
   "execution_count": 89,
   "metadata": {},
   "outputs": [],
   "source": [
    "def do_scl(df_num, cols):\n",
    "    print(\"Original values:\\n\", df_num)\n",
    "\n",
    "    scaler = RobustScaler()\n",
    "    scaler_temp = scaler.fit_transform(df_num)\n",
    "\n",
    "    std_df = pd.DataFrame(scaler_temp, columns =cols)\n",
    "\n",
    "    print(\"\\nScaled values:\\n\", std_df)\n",
    "\n",
    "    return std_df\n",
    "\n",
    "cat_cols = ['ip_protocol']"
   ]
  },
  {
   "cell_type": "markdown",
   "metadata": {},
   "source": [
    "Process standatrization and normalization primitive"
   ]
  },
  {
   "cell_type": "code",
   "execution_count": 90,
   "metadata": {},
   "outputs": [],
   "source": [
    "def process(dataframe):\n",
    "    df_num = dataframe.drop(cat_cols, axis=1)\n",
    "    num_cols = df_num.columns\n",
    "    scaled_df = do_scl(df_num, num_cols)\n",
    "\n",
    "    dataframe.drop(labels=num_cols, axis=\"columns\", inplace=True)\n",
    "    dataframe[num_cols] = scaled_df[num_cols]\n",
    "\n",
    "    #print(\"Before encoding:\")\n",
    "    #print(dataframe['ip_protocol'])\n",
    "    \n",
    "    #uncomment for categorical features\n",
    "    #dataframe = pd.get_dummies(dataframe, columns = ['ip_protocol'])\n",
    "\n",
    "    #print(\"\\nColumns after encoding:\")\n",
    "    #print(dataframe.filter(regex='^protocol_type_'))\n",
    "    \n",
    "    return dataframe"
   ]
  },
  {
   "cell_type": "markdown",
   "metadata": {},
   "source": [
    "Drop not necessary columns and process scaling"
   ]
  },
  {
   "cell_type": "code",
   "execution_count": 117,
   "metadata": {},
   "outputs": [],
   "source": [
    "df = df_src.drop(['src_ip', 'dst_ip','l7_proto','anomaly','notneeded'] ,axis=1)\n"
   ]
  },
  {
   "cell_type": "code",
   "execution_count": 118,
   "metadata": {},
   "outputs": [],
   "source": [
    "df.reset_index(inplace=True)\n",
    "df.drop(['index'],axis=1, inplace=True)"
   ]
  },
  {
   "cell_type": "code",
   "execution_count": 120,
   "metadata": {},
   "outputs": [
    {
     "name": "stdout",
     "output_type": "stream",
     "text": [
      "Original values:\n",
      "          src_port  dst_port  in_bytes  out_bytes  in_pkts  out_pkts  \\\n",
      "0           62073     56082      9672        416       11         8   \n",
      "1           32284      1526      1776        104        6         2   \n",
      "2              21     21971      1842       1236       26        22   \n",
      "3           23800     46893       528       8824       10        12   \n",
      "4           63062        21      1786       2340       32        34   \n",
      "...           ...       ...       ...        ...      ...       ...   \n",
      "9208043        80        80    240264          0      852         0   \n",
      "9208044        80        80   2330065          0     2523         0   \n",
      "9208045         0         0   1054423          0     1513         0   \n",
      "9208046       365       565     62422          0     1357         0   \n",
      "9208047     50850      8883     11300       1664       32        32   \n",
      "\n",
      "         tcp_flags  duration  label  \n",
      "0               25        15      0  \n",
      "1               25         0      0  \n",
      "2               25      1111      0  \n",
      "3               27       124      0  \n",
      "4               25      1459      0  \n",
      "...            ...       ...    ...  \n",
      "9208043          0   4263074      0  \n",
      "9208044          0   4263037      0  \n",
      "9208045          0   4263062      0  \n",
      "9208046          0   4263062      0  \n",
      "9208047         24   4264935      0  \n",
      "\n",
      "[9208048 rows x 9 columns]\n",
      "\n",
      "Scaled values:\n",
      "          src_port  dst_port     in_bytes  out_bytes     in_pkts  out_pkts  \\\n",
      "0        0.285198  8.148653     6.691489   0.132591    0.777778  0.857143   \n",
      "1       -0.462142  0.158612     1.091489  -0.041226    0.222222  0.000000   \n",
      "2       -1.271550  3.152900     1.138298   0.589415    2.444444  2.857143   \n",
      "3       -0.674987  6.802871     0.206383   4.816713    0.666667  1.428571   \n",
      "4        0.310010 -0.061804     1.098582   1.204457    3.111111  4.571429   \n",
      "...           ...       ...          ...        ...         ...       ...   \n",
      "9208043 -1.270070 -0.053163   170.231915  -0.099164   94.222222 -0.285714   \n",
      "9208044 -1.270070 -0.053163  1652.360284  -0.099164  279.888889 -0.285714   \n",
      "9208045 -1.272077 -0.064880   747.649645  -0.099164  167.666667 -0.285714   \n",
      "9208046 -1.262920  0.017868    44.102837  -0.099164  150.333333 -0.285714   \n",
      "9208047  0.003638  1.236087     7.846099   0.827855    3.111111  4.285714   \n",
      "\n",
      "         tcp_flags  duration  label  \n",
      "0         0.034483 -0.999037    0.0  \n",
      "1         0.034483 -0.999040    0.0  \n",
      "2         0.034483 -0.998781    0.0  \n",
      "3         0.103448 -0.999011    0.0  \n",
      "4         0.034483 -0.998700    0.0  \n",
      "...            ...       ...    ...  \n",
      "9208043  -0.827586 -0.006448    0.0  \n",
      "9208044  -0.827586 -0.006456    0.0  \n",
      "9208045  -0.827586 -0.006450    0.0  \n",
      "9208046  -0.827586 -0.006450    0.0  \n",
      "9208047   0.000000 -0.006014    0.0  \n",
      "\n",
      "[9208048 rows x 9 columns]\n"
     ]
    }
   ],
   "source": [
    "scaled_train = process(df)"
   ]
  },
  {
   "cell_type": "markdown",
   "metadata": {},
   "source": [
    "Split data in to training and validation sets"
   ]
  },
  {
   "cell_type": "code",
   "execution_count": 122,
   "metadata": {},
   "outputs": [],
   "source": [
    "y = scaled_train['label'].values\n",
    "y = y.astype('int')\n",
    "\n",
    "X = scaled_train.drop(['label'], axis=1)\n",
    "\n",
    "x_train, x_test, y_train, y_test = \\\n",
    "    train_test_split(X, y, test_size=0.2, random_state=42)\n",
    "x_train_reduced, x_test_reduced, y_train_reduced, y_test_reduced = \\\n",
    "    train_test_split(X, y, test_size=0.2, random_state=42)"
   ]
  },
  {
   "cell_type": "markdown",
   "metadata": {},
   "source": [
    "n_estimators=1500 - the higher the value, the longer the training takes"
   ]
  },
  {
   "cell_type": "markdown",
   "metadata": {},
   "source": [
    "Start learning process\n",
    "These values can be tuned for best performance:\n",
    "'random_state=47, contamination=0.01,n_estimators=1000'"
   ]
  },
  {
   "cell_type": "code",
   "execution_count": 40,
   "metadata": {},
   "outputs": [
    {
     "name": "stderr",
     "output_type": "stream",
     "text": [
      "C:\\Users\\roman.iv\\AppData\\Roaming\\Python\\Python310\\site-packages\\sklearn\\base.py:450: UserWarning: X does not have valid feature names, but IsolationForest was fitted with feature names\n",
      "  warnings.warn(\n"
     ]
    },
    {
     "data": {
      "text/html": [
       "<style>#sk-container-id-3 {color: black;background-color: white;}#sk-container-id-3 pre{padding: 0;}#sk-container-id-3 div.sk-toggleable {background-color: white;}#sk-container-id-3 label.sk-toggleable__label {cursor: pointer;display: block;width: 100%;margin-bottom: 0;padding: 0.3em;box-sizing: border-box;text-align: center;}#sk-container-id-3 label.sk-toggleable__label-arrow:before {content: \"▸\";float: left;margin-right: 0.25em;color: #696969;}#sk-container-id-3 label.sk-toggleable__label-arrow:hover:before {color: black;}#sk-container-id-3 div.sk-estimator:hover label.sk-toggleable__label-arrow:before {color: black;}#sk-container-id-3 div.sk-toggleable__content {max-height: 0;max-width: 0;overflow: hidden;text-align: left;background-color: #f0f8ff;}#sk-container-id-3 div.sk-toggleable__content pre {margin: 0.2em;color: black;border-radius: 0.25em;background-color: #f0f8ff;}#sk-container-id-3 input.sk-toggleable__control:checked~div.sk-toggleable__content {max-height: 200px;max-width: 100%;overflow: auto;}#sk-container-id-3 input.sk-toggleable__control:checked~label.sk-toggleable__label-arrow:before {content: \"▾\";}#sk-container-id-3 div.sk-estimator input.sk-toggleable__control:checked~label.sk-toggleable__label {background-color: #d4ebff;}#sk-container-id-3 div.sk-label input.sk-toggleable__control:checked~label.sk-toggleable__label {background-color: #d4ebff;}#sk-container-id-3 input.sk-hidden--visually {border: 0;clip: rect(1px 1px 1px 1px);clip: rect(1px, 1px, 1px, 1px);height: 1px;margin: -1px;overflow: hidden;padding: 0;position: absolute;width: 1px;}#sk-container-id-3 div.sk-estimator {font-family: monospace;background-color: #f0f8ff;border: 1px dotted black;border-radius: 0.25em;box-sizing: border-box;margin-bottom: 0.5em;}#sk-container-id-3 div.sk-estimator:hover {background-color: #d4ebff;}#sk-container-id-3 div.sk-parallel-item::after {content: \"\";width: 100%;border-bottom: 1px solid gray;flex-grow: 1;}#sk-container-id-3 div.sk-label:hover label.sk-toggleable__label {background-color: #d4ebff;}#sk-container-id-3 div.sk-serial::before {content: \"\";position: absolute;border-left: 1px solid gray;box-sizing: border-box;top: 0;bottom: 0;left: 50%;z-index: 0;}#sk-container-id-3 div.sk-serial {display: flex;flex-direction: column;align-items: center;background-color: white;padding-right: 0.2em;padding-left: 0.2em;position: relative;}#sk-container-id-3 div.sk-item {position: relative;z-index: 1;}#sk-container-id-3 div.sk-parallel {display: flex;align-items: stretch;justify-content: center;background-color: white;position: relative;}#sk-container-id-3 div.sk-item::before, #sk-container-id-3 div.sk-parallel-item::before {content: \"\";position: absolute;border-left: 1px solid gray;box-sizing: border-box;top: 0;bottom: 0;left: 50%;z-index: -1;}#sk-container-id-3 div.sk-parallel-item {display: flex;flex-direction: column;z-index: 1;position: relative;background-color: white;}#sk-container-id-3 div.sk-parallel-item:first-child::after {align-self: flex-end;width: 50%;}#sk-container-id-3 div.sk-parallel-item:last-child::after {align-self: flex-start;width: 50%;}#sk-container-id-3 div.sk-parallel-item:only-child::after {width: 0;}#sk-container-id-3 div.sk-dashed-wrapped {border: 1px dashed gray;margin: 0 0.4em 0.5em 0.4em;box-sizing: border-box;padding-bottom: 0.4em;background-color: white;}#sk-container-id-3 div.sk-label label {font-family: monospace;font-weight: bold;display: inline-block;line-height: 1.2em;}#sk-container-id-3 div.sk-label-container {text-align: center;}#sk-container-id-3 div.sk-container {/* jupyter's `normalize.less` sets `[hidden] { display: none; }` but bootstrap.min.css set `[hidden] { display: none !important; }` so we also need the `!important` here to be able to override the default hidden behavior on the sphinx rendered scikit-learn.org. See: https://github.com/scikit-learn/scikit-learn/issues/21755 */display: inline-block !important;position: relative;}#sk-container-id-3 div.sk-text-repr-fallback {display: none;}</style><div id=\"sk-container-id-3\" class=\"sk-top-container\"><div class=\"sk-text-repr-fallback\"><pre>IsolationForest(contamination=0.001, n_jobs=-1, random_state=47)</pre><b>In a Jupyter environment, please rerun this cell to show the HTML representation or trust the notebook. <br />On GitHub, the HTML representation is unable to render, please try loading this page with nbviewer.org.</b></div><div class=\"sk-container\" hidden><div class=\"sk-item\"><div class=\"sk-estimator sk-toggleable\"><input class=\"sk-toggleable__control sk-hidden--visually\" id=\"sk-estimator-id-3\" type=\"checkbox\" checked><label for=\"sk-estimator-id-3\" class=\"sk-toggleable__label sk-toggleable__label-arrow\">IsolationForest</label><div class=\"sk-toggleable__content\"><pre>IsolationForest(contamination=0.001, n_jobs=-1, random_state=47)</pre></div></div></div></div></div>"
      ],
      "text/plain": [
       "IsolationForest(contamination=0.001, n_jobs=-1, random_state=47)"
      ]
     },
     "execution_count": 40,
     "metadata": {},
     "output_type": "execute_result"
    }
   ],
   "source": [
    "clf = IsolationForest(random_state=47,n_jobs=-1, contamination=0.001,n_estimators=100)\n",
    "clf.fit(x_train)"
   ]
  },
  {
   "cell_type": "markdown",
   "metadata": {},
   "source": [
    "Start prediction. Trained model know only x_train data"
   ]
  },
  {
   "cell_type": "code",
   "execution_count": 48,
   "metadata": {},
   "outputs": [],
   "source": [
    "predict_test = clf.predict(x_test)\n",
    "predict_train = clf.predict(x_train)"
   ]
  },
  {
   "cell_type": "markdown",
   "metadata": {},
   "source": [
    "Normalize predicted values to source values for testing prediction:  0- is normal behviour, 1 - is anomaly"
   ]
  },
  {
   "cell_type": "code",
   "execution_count": 124,
   "metadata": {},
   "outputs": [],
   "source": [
    "predict_test[predict_test == 1] = 0\n",
    "predict_train[predict_train == 1] = 0\n",
    "\n",
    "predict_test[predict_test == -1] = 1\n",
    "predict_train[predict_train == -1] = 1"
   ]
  },
  {
   "cell_type": "markdown",
   "metadata": {},
   "source": [
    "Validate predicted values to known values and calculate accuracy"
   ]
  },
  {
   "cell_type": "code",
   "execution_count": 126,
   "metadata": {},
   "outputs": [
    {
     "data": {
      "text/plain": [
       "(1.0, 1.0, 0.9999425874061887)"
      ]
     },
     "execution_count": 126,
     "metadata": {},
     "output_type": "execute_result"
    }
   ],
   "source": [
    "test_accuracy = metrics.accuracy_score(y_test,predict_test)\n",
    "train_accuracy = metrics.accuracy_score(y_train,predict_train)"
   ]
  },
  {
   "cell_type": "markdown",
   "metadata": {},
   "source": [
    "Print results for accuracy"
   ]
  },
  {
   "cell_type": "code",
   "execution_count": null,
   "metadata": {},
   "outputs": [],
   "source": [
    "n_error_test = predict_test[predict_test == 1].size\n",
    "n_error_outliers = predict_train[predict_train == 1].size\n",
    "\n",
    "print( \"errors novel regular: %d/40 ; errors novel abnormal: %d/40\"\n",
    "    % (n_error_test, n_error_outliers))\n",
    "\n",
    "print(\"Training Accuracy \" + \"IsolationForestClassifier\" + \" {}  Test Accuracy \".format(train_accuracy*100) + 'IsolationForestClassifier' + \" {}\".format(test_accuracy*100))"
   ]
  },
  {
   "cell_type": "markdown",
   "metadata": {},
   "source": [
    "Save trained model for future usage"
   ]
  },
  {
   "cell_type": "code",
   "execution_count": 127,
   "metadata": {},
   "outputs": [],
   "source": [
    "with open(\"IsolationForestModel_100.pkl\", \"wb\") as f:\n",
    "    dump(clf, f, protocol=5)"
   ]
  }
 ],
 "metadata": {
  "kernelspec": {
   "display_name": "base",
   "language": "python",
   "name": "python3"
  },
  "language_info": {
   "codemirror_mode": {
    "name": "ipython",
    "version": 3
   },
   "file_extension": ".py",
   "mimetype": "text/x-python",
   "name": "python",
   "nbconvert_exporter": "python",
   "pygments_lexer": "ipython3",
   "version": "3.10.4"
  }
 },
 "nbformat": 4,
 "nbformat_minor": 2
}
