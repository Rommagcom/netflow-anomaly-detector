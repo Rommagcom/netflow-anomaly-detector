{
 "cells": [
  {
   "cell_type": "markdown",
   "metadata": {},
   "source": [
    "Train Model using  NetFlow files from csv format"
   ]
  },
  {
   "cell_type": "markdown",
   "metadata": {},
   "source": [
    "Import dependecies\n",
    "pip install numpy,pandas,xgboost,sklearn,pickle"
   ]
  },
  {
   "cell_type": "code",
   "execution_count": 1,
   "metadata": {},
   "outputs": [],
   "source": [
    "import numpy as np\n",
    "import pandas as pd\n",
    "import matplotlib.pyplot as plt\n",
    "import xgboost as xgb\n",
    "from sklearn.decomposition import PCA\n",
    "from sklearn.naive_bayes import GaussianNB\n",
    "from sklearn.linear_model import LogisticRegression\n",
    "from sklearn.neighbors import KNeighborsClassifier,LocalOutlierFactor\n",
    "from sklearn.preprocessing import RobustScaler\n",
    "from sklearn.ensemble import RandomForestClassifier,IsolationForest\n",
    "from sklearn.cluster import DBSCAN,KMeans\n",
    "from sklearn.model_selection import train_test_split\n",
    "from sklearn import metrics\n",
    "from sklearn import model_selection\n",
    "from pickle import dump\n",
    "import time"
   ]
  },
  {
   "cell_type": "markdown",
   "metadata": {},
   "source": [
    "Data set can be downloaded from here"
   ]
  },
  {
   "cell_type": "markdown",
   "metadata": {},
   "source": [
    "https://rdm.uq.edu.au/files/650f1fa0-ef9c-11ed-b5f6-b1a04f482c13"
   ]
  },
  {
   "cell_type": "markdown",
   "metadata": {},
   "source": [
    "Columns needed from csv files\n",
    "Example:\n",
    "172.31.66.17,51128,23.36.69.189,443,6,91.0,152,0,3,0,194,4285680,0,anomaly_name\n",
    "\n",
    "After data normalization some field will be dropped\n",
    "'src_ip', 'dst_ip','l7_proto','anomaly'\n",
    "In this way these values can be written randomly and will be not used in learning process"
   ]
  },
  {
   "cell_type": "markdown",
   "metadata": {},
   "source": [
    "field 'label' if equels 0 - is normal, if equals 1 - is anomaly, training model dont take it in to cosideration, just needed for validation"
   ]
  },
  {
   "cell_type": "code",
   "execution_count": 2,
   "metadata": {},
   "outputs": [],
   "source": [
    "flow_fields = [\n",
    "    \"src_ip\",\n",
    "    \"src_port\",\n",
    "    \"dst_ip\",\n",
    "    \"dst_port\",\n",
    "    \"ip_protocol\",\n",
    "    \"l7_proto\",\n",
    "    \"in_bytes\",\n",
    "    \"out_bytes\",\n",
    "    \"in_pkts\",\n",
    "    \"out_pkts\",\n",
    "    \"tcp_flags\",\n",
    "    \"duration\",\n",
    "    \"label\",\n",
    "    \"anomaly\"\n",
    "]\n",
    "\n",
    "with open(\"datasets/NF-CSE-CIC-IDS2018.csv\", \"r\") as csvfile:\n",
    "    # pass input data stream as open(\"data.csv\", \"r\") to csv.reader for testing\n",
    "    # read and process line by line don't read into list\n",
    "    df_src = pd.read_csv(csvfile, names=flow_fields)"
   ]
  },
  {
   "cell_type": "markdown",
   "metadata": {},
   "source": [
    "Scaler for data standartization"
   ]
  },
  {
   "cell_type": "code",
   "execution_count": 3,
   "metadata": {},
   "outputs": [],
   "source": [
    "def do_scl(df_num, cols):\n",
    "    print(\"Original values:\\n\", df_num)\n",
    "\n",
    "    scaler = RobustScaler()\n",
    "    scaler_temp = scaler.fit_transform(df_num)\n",
    "\n",
    "    std_df = pd.DataFrame(scaler_temp, columns =cols)\n",
    "\n",
    "    print(\"\\nScaled values:\\n\", std_df)\n",
    "\n",
    "    return std_df\n",
    "\n",
    "cat_cols = ['ip_protocol']"
   ]
  },
  {
   "cell_type": "markdown",
   "metadata": {},
   "source": [
    "Process standatrization and normalization primitive"
   ]
  },
  {
   "cell_type": "code",
   "execution_count": 4,
   "metadata": {},
   "outputs": [],
   "source": [
    "def process(dataframe):\n",
    "    df_num = dataframe.drop(cat_cols, axis=1)\n",
    "    num_cols = df_num.columns\n",
    "    scaled_df = do_scl(df_num, num_cols)\n",
    "\n",
    "    dataframe.drop(labels=num_cols, axis=\"columns\", inplace=True)\n",
    "    dataframe[num_cols] = scaled_df[num_cols]\n",
    "\n",
    "    print(\"Before encoding:\")\n",
    "    print(dataframe['ip_protocol'])\n",
    "\n",
    "    dataframe = pd.get_dummies(dataframe, columns = ['ip_protocol'])\n",
    "\n",
    "    print(\"\\nColumns after encoding:\")\n",
    "    print(dataframe.filter(regex='^protocol_type_'))\n",
    "    \n",
    "    return dataframe"
   ]
  },
  {
   "cell_type": "markdown",
   "metadata": {},
   "source": [
    "Drop not necessary columns and process scaling"
   ]
  },
  {
   "cell_type": "code",
   "execution_count": 5,
   "metadata": {},
   "outputs": [
    {
     "name": "stdout",
     "output_type": "stream",
     "text": [
      "Original values:\n",
      "          src_port  dst_port  in_bytes  out_bytes  in_pkts  out_pkts  \\\n",
      "0           51128       443       152          0        3         0   \n",
      "1             443     51036       994        979        7         7   \n",
      "2           12262       445       585        344        5         4   \n",
      "3           61023        53       136        168        2         2   \n",
      "4             443     51037        72         40        1         1   \n",
      "...           ...       ...       ...        ...      ...       ...   \n",
      "8392396        22     40810      2601          0       12         0   \n",
      "8392397     15476        23        44          0        1         0   \n",
      "8392398        23     15476        40          0        1         0   \n",
      "8392399     56407        53        72          0        1         0   \n",
      "8392400        53     56407       126          0        1         0   \n",
      "\n",
      "         tcp_flags  duration  label  \n",
      "0              194   4285680      0  \n",
      "1               24   4234714      0  \n",
      "2               30   4294106      0  \n",
      "3                0   4293985      0  \n",
      "4               24   4294845      0  \n",
      "...            ...       ...    ...  \n",
      "8392396         27         0      0  \n",
      "8392397          2         0      0  \n",
      "8392398         20         0      0  \n",
      "8392399          0         0      0  \n",
      "8392400          0         0      0  \n",
      "\n",
      "[8392401 rows x 9 columns]\n",
      "\n",
      "Scaled values:\n",
      "          src_port   dst_port  in_bytes  out_bytes   in_pkts  out_pkts  \\\n",
      "0       -0.026440   0.000000 -0.000772  -0.171429  0.000000 -0.166667   \n",
      "1       -2.628607  15.165767  0.649421   1.227143  0.571429  1.000000   \n",
      "2       -2.021819   0.000600  0.333591   0.320000  0.285714  0.500000   \n",
      "3        0.481569  -0.116906 -0.013127   0.068571 -0.142857  0.166667   \n",
      "4       -2.628607  15.166067 -0.062548  -0.114286 -0.285714  0.000000   \n",
      "...           ...        ...       ...        ...       ...       ...   \n",
      "8392396 -2.650221  12.100420  1.890347  -0.171429  1.285714 -0.166667   \n",
      "8392397 -1.856813  -0.125899 -0.084170  -0.171429 -0.285714 -0.166667   \n",
      "8392398 -2.650169   4.506295 -0.087259  -0.171429 -0.285714 -0.166667   \n",
      "8392399  0.244584  -0.116906 -0.062548  -0.171429 -0.285714 -0.166667   \n",
      "8392400 -2.648629  16.775779 -0.020849  -0.171429 -0.285714 -0.166667   \n",
      "\n",
      "         tcp_flags  duration  label  \n",
      "0         5.483871 -0.001433    0.0  \n",
      "1         0.000000 -0.013300    0.0  \n",
      "2         0.193548  0.000529    0.0  \n",
      "3        -0.774194  0.000501    0.0  \n",
      "4         0.000000  0.000701    0.0  \n",
      "...            ...       ...    ...  \n",
      "8392396   0.096774 -0.999285    0.0  \n",
      "8392397  -0.709677 -0.999285    0.0  \n",
      "8392398  -0.129032 -0.999285    0.0  \n",
      "8392399  -0.774194 -0.999285    0.0  \n",
      "8392400  -0.774194 -0.999285    0.0  \n",
      "\n",
      "[8392401 rows x 9 columns]\n",
      "Before encoding:\n",
      "0           6\n",
      "1           6\n",
      "2           6\n",
      "3          17\n",
      "4           6\n",
      "           ..\n",
      "8392396     6\n",
      "8392397     6\n",
      "8392398     6\n",
      "8392399    17\n",
      "8392400    17\n",
      "Name: ip_protocol, Length: 8392401, dtype: int64\n",
      "\n",
      "Columns after encoding:\n",
      "Empty DataFrame\n",
      "Columns: []\n",
      "Index: [0, 1, 2, 3, 4, 5, 6, 7, 8, 9, 10, 11, 12, 13, 14, 15, 16, 17, 18, 19, 20, 21, 22, 23, 24, 25, 26, 27, 28, 29, 30, 31, 32, 33, 34, 35, 36, 37, 38, 39, 40, 41, 42, 43, 44, 45, 46, 47, 48, 49, 50, 51, 52, 53, 54, 55, 56, 57, 58, 59, 60, 61, 62, 63, 64, 65, 66, 67, 68, 69, 70, 71, 72, 73, 74, 75, 76, 77, 78, 79, 80, 81, 82, 83, 84, 85, 86, 87, 88, 89, 90, 91, 92, 93, 94, 95, 96, 97, 98, 99, ...]\n",
      "\n",
      "[8392401 rows x 0 columns]\n"
     ]
    }
   ],
   "source": [
    "df = df_src.drop(['src_ip', 'dst_ip','l7_proto','anomaly'] ,axis=1)\n",
    "scaled_train = process(df)"
   ]
  },
  {
   "cell_type": "markdown",
   "metadata": {},
   "source": [
    "Split data in to training and validation sets"
   ]
  },
  {
   "cell_type": "code",
   "execution_count": 6,
   "metadata": {},
   "outputs": [],
   "source": [
    "y = scaled_train['label'].values\n",
    "y = y.astype('int')\n",
    "\n",
    "X = scaled_train.drop(['label'], axis=1)\n",
    "\n",
    "x_train, x_test, y_train, y_test = \\\n",
    "    train_test_split(X, y, test_size=0.2, random_state=42)\n",
    "x_train_reduced, x_test_reduced, y_train_reduced, y_test_reduced = \\\n",
    "    train_test_split(X, y, test_size=0.2, random_state=42)"
   ]
  },
  {
   "cell_type": "markdown",
   "metadata": {},
   "source": [
    "n_estimators=1500 - the higher the value, the longer the training takes"
   ]
  },
  {
   "cell_type": "markdown",
   "metadata": {},
   "source": [
    "Start learning process\n",
    "These values can be tuned for best performance:\n",
    "'random_state=47, contamination=0.01,n_estimators=1000'"
   ]
  },
  {
   "cell_type": "code",
   "execution_count": 24,
   "metadata": {},
   "outputs": [
    {
     "name": "stderr",
     "output_type": "stream",
     "text": [
      "C:\\Users\\roman.iv\\AppData\\Roaming\\Python\\Python310\\site-packages\\sklearn\\base.py:450: UserWarning: X does not have valid feature names, but IsolationForest was fitted with feature names\n",
      "  warnings.warn(\n"
     ]
    },
    {
     "data": {
      "text/html": [
       "<style>#sk-container-id-4 {color: black;background-color: white;}#sk-container-id-4 pre{padding: 0;}#sk-container-id-4 div.sk-toggleable {background-color: white;}#sk-container-id-4 label.sk-toggleable__label {cursor: pointer;display: block;width: 100%;margin-bottom: 0;padding: 0.3em;box-sizing: border-box;text-align: center;}#sk-container-id-4 label.sk-toggleable__label-arrow:before {content: \"▸\";float: left;margin-right: 0.25em;color: #696969;}#sk-container-id-4 label.sk-toggleable__label-arrow:hover:before {color: black;}#sk-container-id-4 div.sk-estimator:hover label.sk-toggleable__label-arrow:before {color: black;}#sk-container-id-4 div.sk-toggleable__content {max-height: 0;max-width: 0;overflow: hidden;text-align: left;background-color: #f0f8ff;}#sk-container-id-4 div.sk-toggleable__content pre {margin: 0.2em;color: black;border-radius: 0.25em;background-color: #f0f8ff;}#sk-container-id-4 input.sk-toggleable__control:checked~div.sk-toggleable__content {max-height: 200px;max-width: 100%;overflow: auto;}#sk-container-id-4 input.sk-toggleable__control:checked~label.sk-toggleable__label-arrow:before {content: \"▾\";}#sk-container-id-4 div.sk-estimator input.sk-toggleable__control:checked~label.sk-toggleable__label {background-color: #d4ebff;}#sk-container-id-4 div.sk-label input.sk-toggleable__control:checked~label.sk-toggleable__label {background-color: #d4ebff;}#sk-container-id-4 input.sk-hidden--visually {border: 0;clip: rect(1px 1px 1px 1px);clip: rect(1px, 1px, 1px, 1px);height: 1px;margin: -1px;overflow: hidden;padding: 0;position: absolute;width: 1px;}#sk-container-id-4 div.sk-estimator {font-family: monospace;background-color: #f0f8ff;border: 1px dotted black;border-radius: 0.25em;box-sizing: border-box;margin-bottom: 0.5em;}#sk-container-id-4 div.sk-estimator:hover {background-color: #d4ebff;}#sk-container-id-4 div.sk-parallel-item::after {content: \"\";width: 100%;border-bottom: 1px solid gray;flex-grow: 1;}#sk-container-id-4 div.sk-label:hover label.sk-toggleable__label {background-color: #d4ebff;}#sk-container-id-4 div.sk-serial::before {content: \"\";position: absolute;border-left: 1px solid gray;box-sizing: border-box;top: 0;bottom: 0;left: 50%;z-index: 0;}#sk-container-id-4 div.sk-serial {display: flex;flex-direction: column;align-items: center;background-color: white;padding-right: 0.2em;padding-left: 0.2em;position: relative;}#sk-container-id-4 div.sk-item {position: relative;z-index: 1;}#sk-container-id-4 div.sk-parallel {display: flex;align-items: stretch;justify-content: center;background-color: white;position: relative;}#sk-container-id-4 div.sk-item::before, #sk-container-id-4 div.sk-parallel-item::before {content: \"\";position: absolute;border-left: 1px solid gray;box-sizing: border-box;top: 0;bottom: 0;left: 50%;z-index: -1;}#sk-container-id-4 div.sk-parallel-item {display: flex;flex-direction: column;z-index: 1;position: relative;background-color: white;}#sk-container-id-4 div.sk-parallel-item:first-child::after {align-self: flex-end;width: 50%;}#sk-container-id-4 div.sk-parallel-item:last-child::after {align-self: flex-start;width: 50%;}#sk-container-id-4 div.sk-parallel-item:only-child::after {width: 0;}#sk-container-id-4 div.sk-dashed-wrapped {border: 1px dashed gray;margin: 0 0.4em 0.5em 0.4em;box-sizing: border-box;padding-bottom: 0.4em;background-color: white;}#sk-container-id-4 div.sk-label label {font-family: monospace;font-weight: bold;display: inline-block;line-height: 1.2em;}#sk-container-id-4 div.sk-label-container {text-align: center;}#sk-container-id-4 div.sk-container {/* jupyter's `normalize.less` sets `[hidden] { display: none; }` but bootstrap.min.css set `[hidden] { display: none !important; }` so we also need the `!important` here to be able to override the default hidden behavior on the sphinx rendered scikit-learn.org. See: https://github.com/scikit-learn/scikit-learn/issues/21755 */display: inline-block !important;position: relative;}#sk-container-id-4 div.sk-text-repr-fallback {display: none;}</style><div id=\"sk-container-id-4\" class=\"sk-top-container\"><div class=\"sk-text-repr-fallback\"><pre>IsolationForest(contamination=0.01, n_estimators=3000, n_jobs=-1,\n",
       "                random_state=47)</pre><b>In a Jupyter environment, please rerun this cell to show the HTML representation or trust the notebook. <br />On GitHub, the HTML representation is unable to render, please try loading this page with nbviewer.org.</b></div><div class=\"sk-container\" hidden><div class=\"sk-item\"><div class=\"sk-estimator sk-toggleable\"><input class=\"sk-toggleable__control sk-hidden--visually\" id=\"sk-estimator-id-4\" type=\"checkbox\" checked><label for=\"sk-estimator-id-4\" class=\"sk-toggleable__label sk-toggleable__label-arrow\">IsolationForest</label><div class=\"sk-toggleable__content\"><pre>IsolationForest(contamination=0.01, n_estimators=3000, n_jobs=-1,\n",
       "                random_state=47)</pre></div></div></div></div></div>"
      ],
      "text/plain": [
       "IsolationForest(contamination=0.01, n_estimators=3000, n_jobs=-1,\n",
       "                random_state=47)"
      ]
     },
     "execution_count": 24,
     "metadata": {},
     "output_type": "execute_result"
    }
   ],
   "source": [
    "#clf = IsolationForest(random_state=47,n_jobs=-1, contamination=0.05,n_estimators=1000) #Work 84.3% - Give 84.3 accuracy score\n",
    "#clf = IsolationForest(random_state=47,n_jobs=-1, contamination=0.01,n_estimators=1000) #Work 86.3% - Give 84.3 accuracy score\n",
    "#clf = IsolationForest(random_state=47,n_jobs=-1, contamination=0.02,n_estimators=1500) #Work 86.26 - Give 86.26 accuracy score\n",
    "clf = IsolationForest(random_state=47,n_jobs=-1, contamination=0.01,n_estimators=3000)\n",
    "clf.fit(x_train)"
   ]
  },
  {
   "cell_type": "markdown",
   "metadata": {},
   "source": [
    "Start prediction. Trained model know only x_train data"
   ]
  },
  {
   "cell_type": "code",
   "execution_count": 25,
   "metadata": {},
   "outputs": [],
   "source": [
    "predict_test = clf.predict(x_test)\n",
    "predict_train = clf.predict(x_train)"
   ]
  },
  {
   "cell_type": "markdown",
   "metadata": {},
   "source": [
    "Normalize predicted values to source values for testing prediction:  0- is normal behviour, 1 - is anomaly"
   ]
  },
  {
   "cell_type": "code",
   "execution_count": null,
   "metadata": {},
   "outputs": [],
   "source": [
    "predict_test[predict_test == 1] = 0\n",
    "predict_train[predict_train == 1] = 0\n",
    "\n",
    "predict_test[predict_test == -1] = 1\n",
    "predict_train[predict_train == -1] = 1"
   ]
  },
  {
   "cell_type": "markdown",
   "metadata": {},
   "source": [
    "Validate predicted values to known values and calculate accuracy"
   ]
  },
  {
   "cell_type": "code",
   "execution_count": null,
   "metadata": {},
   "outputs": [
    {
     "data": {
      "text/plain": [
       "(0.8613730875554073, 0.8610708134319066)"
      ]
     },
     "execution_count": 22,
     "metadata": {},
     "output_type": "execute_result"
    }
   ],
   "source": [
    "test_accuracy = metrics.accuracy_score(y_test,predict_test)\n",
    "train_accuracy = metrics.accuracy_score(y_train,predict_train)\n",
    "\n",
    "train_accuracy,test_accuracy"
   ]
  },
  {
   "cell_type": "markdown",
   "metadata": {},
   "source": [
    "Print results for accuracy"
   ]
  },
  {
   "cell_type": "code",
   "execution_count": null,
   "metadata": {},
   "outputs": [
    {
     "name": "stdout",
     "output_type": "stream",
     "text": [
      "errors novel regular: 31794/40 ; errors novel abnormal: 126261/40\n",
      "Training Accuracy IsolationForestClassifier 86.13730875554073  Test Accuracy IsolationForestClassifier 86.10708134319066\n"
     ]
    }
   ],
   "source": [
    "n_error_test = predict_test[predict_test == 1].size\n",
    "n_error_outliers = predict_train[predict_train == 1].size\n",
    "\n",
    "print( \"errors novel regular: %d/40 ; errors novel abnormal: %d/40\"\n",
    "    % (n_error_test, n_error_outliers))\n",
    "\n",
    "print(\"Training Accuracy \" + \"IsolationForestClassifier\" + \" {}  Test Accuracy \".format(train_accuracy*100) + 'IsolationForestClassifier' + \" {}\".format(test_accuracy*100))"
   ]
  },
  {
   "cell_type": "markdown",
   "metadata": {},
   "source": [
    "Save trained model for future usage"
   ]
  },
  {
   "cell_type": "code",
   "execution_count": 13,
   "metadata": {},
   "outputs": [],
   "source": [
    "with open(\"IsolationForestModel_86.pkl\", \"wb\") as f:\n",
    "    dump(clf, f, protocol=5)"
   ]
  },
  {
   "cell_type": "markdown",
   "metadata": {},
   "source": [
    "From here starts example where we load the model from saved learned model file and use it to predict anomaly"
   ]
  },
  {
   "cell_type": "code",
   "execution_count": null,
   "metadata": {},
   "outputs": [],
   "source": [
    "# Read binary file\n",
    "with open(\"IsolationForestModel_86.pkl\", \"rb\") as f:\n",
    "    clf_test = load(f)"
   ]
  },
  {
   "cell_type": "markdown",
   "metadata": {},
   "source": [
    "We use again test data, but you can use your own data but you need standartize and normalize it first using methods described Above"
   ]
  },
  {
   "cell_type": "code",
   "execution_count": null,
   "metadata": {},
   "outputs": [],
   "source": [
    "predict_test_data= clf_test.predict(x_test)"
   ]
  },
  {
   "cell_type": "markdown",
   "metadata": {},
   "source": [
    "Normalize predicted values to source values for testing prediction: 0- is normal behviour, 1 - is anomaly. In preddicted model values 1 - is normal, -1 - is anomaly we normalize it to 0 and 1"
   ]
  },
  {
   "cell_type": "code",
   "execution_count": null,
   "metadata": {},
   "outputs": [],
   "source": [
    "predict_test_data[predict_test_data == 1] = 0\n",
    "predict_test_data[predict_test_data == -1] = 1"
   ]
  },
  {
   "cell_type": "markdown",
   "metadata": {},
   "source": [
    "Validate accuracy if you have had dataset with knowing and setted anomalies. Otherweise you can select only results with value 1 - is anomaly and compare it with source data to detect IPs and other data"
   ]
  },
  {
   "cell_type": "code",
   "execution_count": null,
   "metadata": {},
   "outputs": [],
   "source": [
    "test_accuracy_test = metrics.accuracy_score(y_test,predict_test_data)\n",
    "test_accuracy_test"
   ]
  }
 ],
 "metadata": {
  "kernelspec": {
   "display_name": "base",
   "language": "python",
   "name": "python3"
  },
  "language_info": {
   "codemirror_mode": {
    "name": "ipython",
    "version": 3
   },
   "file_extension": ".py",
   "mimetype": "text/x-python",
   "name": "python",
   "nbconvert_exporter": "python",
   "pygments_lexer": "ipython3",
   "version": "3.10.4"
  }
 },
 "nbformat": 4,
 "nbformat_minor": 2
}
