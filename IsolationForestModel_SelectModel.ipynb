{
 "cells": [
  {
   "cell_type": "markdown",
   "metadata": {},
   "source": [
    "Train Model using  NetFlow files from csv format"
   ]
  },
  {
   "cell_type": "markdown",
   "metadata": {},
   "source": [
    "Import dependecies\n",
    "pip install numpy,pandas,xgboost,sklearn,pickle"
   ]
  },
  {
   "cell_type": "code",
   "execution_count": 1,
   "metadata": {},
   "outputs": [],
   "source": [
    "import numpy as np\n",
    "import pandas as pd\n",
    "import matplotlib.pyplot as plt\n",
    "import xgboost as xgb\n",
    "from sklearn.decomposition import PCA\n",
    "from sklearn.naive_bayes import GaussianNB\n",
    "from sklearn.linear_model import LogisticRegression\n",
    "from sklearn.neighbors import KNeighborsClassifier,LocalOutlierFactor\n",
    "from sklearn.preprocessing import RobustScaler\n",
    "from sklearn.ensemble import RandomForestClassifier,IsolationForest\n",
    "from sklearn.cluster import DBSCAN,KMeans\n",
    "from sklearn.model_selection import train_test_split\n",
    "from sklearn import metrics\n",
    "from sklearn import model_selection\n",
    "from pickle import dump\n",
    "import time\n",
    "from pickle import load"
   ]
  },
  {
   "cell_type": "markdown",
   "metadata": {},
   "source": [
    "Data set can be downloaded from here"
   ]
  },
  {
   "cell_type": "markdown",
   "metadata": {},
   "source": [
    "https://rdm.uq.edu.au/files/650f1fa0-ef9c-11ed-b5f6-b1a04f482c13"
   ]
  },
  {
   "cell_type": "markdown",
   "metadata": {},
   "source": [
    "Columns needed from csv files\n",
    "Example:\n",
    "172.31.66.17,51128,23.36.69.189,443,6,91.0,152,0,3,0,194,4285680,0,anomaly_name\n",
    "\n",
    "After data normalization some field will be dropped\n",
    "'src_ip', 'dst_ip','l7_proto','anomaly'\n",
    "In this way these values can be written randomly and will be not used in learning process"
   ]
  },
  {
   "cell_type": "markdown",
   "metadata": {},
   "source": [
    "field 'label' if equels 0 - is normal, if equals 1 - is anomaly, training model dont take it in to cosideration, just needed for validation"
   ]
  },
  {
   "cell_type": "code",
   "execution_count": 2,
   "metadata": {},
   "outputs": [],
   "source": [
    "flow_fields = [\n",
    "    \"src_ip\",\n",
    "    \"src_port\",\n",
    "    \"dst_ip\",\n",
    "    \"dst_port\",\n",
    "    \"ip_protocol\",\n",
    "    \"l7_proto\",\n",
    "    \"in_bytes\",\n",
    "    \"out_bytes\",\n",
    "    \"in_pkts\",\n",
    "    \"out_pkts\",\n",
    "    \"tcp_flags\",\n",
    "    \"duration\",\n",
    "    \"label\",\n",
    "    \"anomaly\",\n",
    "    \"notneeded\"\n",
    "]\n",
    "\n",
    "with open(\"datasets/NF-UQ-NIDS.csv\", \"r\") as csvfile:\n",
    "    # pass input data stream as open(\"data.csv\", \"r\") to csv.reader for testing\n",
    "    # read and process line by line don't read into list\n",
    "    df_new = pd.read_csv(csvfile, names=flow_fields)"
   ]
  },
  {
   "cell_type": "code",
   "execution_count": 69,
   "metadata": {},
   "outputs": [],
   "source": [
    "df_src_msk = df_new['anomaly'] == 'Benign'\n",
    "df_src = df_new[df_src_msk]"
   ]
  },
  {
   "cell_type": "code",
   "execution_count": 115,
   "metadata": {},
   "outputs": [],
   "source": [
    "df_worms_mask = df_new['anomaly'] != 'Benign'\n",
    "df_worm = df_new.loc[df_worms_mask]"
   ]
  },
  {
   "cell_type": "code",
   "execution_count": 116,
   "metadata": {},
   "outputs": [
    {
     "data": {
      "text/html": [
       "<div>\n",
       "<style scoped>\n",
       "    .dataframe tbody tr th:only-of-type {\n",
       "        vertical-align: middle;\n",
       "    }\n",
       "\n",
       "    .dataframe tbody tr th {\n",
       "        vertical-align: top;\n",
       "    }\n",
       "\n",
       "    .dataframe thead th {\n",
       "        text-align: right;\n",
       "    }\n",
       "</style>\n",
       "<table border=\"1\" class=\"dataframe\">\n",
       "  <thead>\n",
       "    <tr style=\"text-align: right;\">\n",
       "      <th></th>\n",
       "      <th>src_ip</th>\n",
       "      <th>src_port</th>\n",
       "      <th>dst_ip</th>\n",
       "      <th>dst_port</th>\n",
       "      <th>ip_protocol</th>\n",
       "      <th>l7_proto</th>\n",
       "      <th>in_bytes</th>\n",
       "      <th>out_bytes</th>\n",
       "      <th>in_pkts</th>\n",
       "      <th>out_pkts</th>\n",
       "      <th>tcp_flags</th>\n",
       "      <th>duration</th>\n",
       "      <th>label</th>\n",
       "      <th>anomaly</th>\n",
       "      <th>notneeded</th>\n",
       "    </tr>\n",
       "  </thead>\n",
       "  <tbody>\n",
       "    <tr>\n",
       "      <th>29</th>\n",
       "      <td>175.45.176.1</td>\n",
       "      <td>43025</td>\n",
       "      <td>149.171.126.16</td>\n",
       "      <td>25</td>\n",
       "      <td>6</td>\n",
       "      <td>3.0</td>\n",
       "      <td>41290</td>\n",
       "      <td>2080</td>\n",
       "      <td>48</td>\n",
       "      <td>24</td>\n",
       "      <td>27</td>\n",
       "      <td>803</td>\n",
       "      <td>1</td>\n",
       "      <td>Exploits</td>\n",
       "      <td>NF-UNSW-NB15</td>\n",
       "    </tr>\n",
       "    <tr>\n",
       "      <th>40</th>\n",
       "      <td>175.45.176.3</td>\n",
       "      <td>64923</td>\n",
       "      <td>149.171.126.17</td>\n",
       "      <td>80</td>\n",
       "      <td>6</td>\n",
       "      <td>7.0</td>\n",
       "      <td>994</td>\n",
       "      <td>256</td>\n",
       "      <td>10</td>\n",
       "      <td>6</td>\n",
       "      <td>19</td>\n",
       "      <td>189</td>\n",
       "      <td>1</td>\n",
       "      <td>Exploits</td>\n",
       "      <td>NF-UNSW-NB15</td>\n",
       "    </tr>\n",
       "    <tr>\n",
       "      <th>67</th>\n",
       "      <td>175.45.176.3</td>\n",
       "      <td>9022</td>\n",
       "      <td>149.171.126.13</td>\n",
       "      <td>111</td>\n",
       "      <td>6</td>\n",
       "      <td>11.0</td>\n",
       "      <td>552</td>\n",
       "      <td>336</td>\n",
       "      <td>10</td>\n",
       "      <td>8</td>\n",
       "      <td>19</td>\n",
       "      <td>678</td>\n",
       "      <td>1</td>\n",
       "      <td>Reconnaissance</td>\n",
       "      <td>NF-UNSW-NB15</td>\n",
       "    </tr>\n",
       "    <tr>\n",
       "      <th>93</th>\n",
       "      <td>175.45.176.3</td>\n",
       "      <td>1752</td>\n",
       "      <td>149.171.126.10</td>\n",
       "      <td>25</td>\n",
       "      <td>6</td>\n",
       "      <td>3.0</td>\n",
       "      <td>3022</td>\n",
       "      <td>1636</td>\n",
       "      <td>20</td>\n",
       "      <td>20</td>\n",
       "      <td>19</td>\n",
       "      <td>789</td>\n",
       "      <td>1</td>\n",
       "      <td>DoS</td>\n",
       "      <td>NF-UNSW-NB15</td>\n",
       "    </tr>\n",
       "    <tr>\n",
       "      <th>115</th>\n",
       "      <td>175.45.176.3</td>\n",
       "      <td>53967</td>\n",
       "      <td>149.171.126.14</td>\n",
       "      <td>111</td>\n",
       "      <td>17</td>\n",
       "      <td>11.0</td>\n",
       "      <td>168</td>\n",
       "      <td>0</td>\n",
       "      <td>2</td>\n",
       "      <td>0</td>\n",
       "      <td>0</td>\n",
       "      <td>0</td>\n",
       "      <td>1</td>\n",
       "      <td>Reconnaissance</td>\n",
       "      <td>NF-UNSW-NB15</td>\n",
       "    </tr>\n",
       "    <tr>\n",
       "      <th>...</th>\n",
       "      <td>...</td>\n",
       "      <td>...</td>\n",
       "      <td>...</td>\n",
       "      <td>...</td>\n",
       "      <td>...</td>\n",
       "      <td>...</td>\n",
       "      <td>...</td>\n",
       "      <td>...</td>\n",
       "      <td>...</td>\n",
       "      <td>...</td>\n",
       "      <td>...</td>\n",
       "      <td>...</td>\n",
       "      <td>...</td>\n",
       "      <td>...</td>\n",
       "      <td>...</td>\n",
       "    </tr>\n",
       "    <tr>\n",
       "      <th>11994872</th>\n",
       "      <td>192.168.100.150</td>\n",
       "      <td>46307</td>\n",
       "      <td>192.168.100.3</td>\n",
       "      <td>22</td>\n",
       "      <td>6</td>\n",
       "      <td>92.0</td>\n",
       "      <td>4854</td>\n",
       "      <td>5812</td>\n",
       "      <td>32</td>\n",
       "      <td>36</td>\n",
       "      <td>26</td>\n",
       "      <td>4266525</td>\n",
       "      <td>1</td>\n",
       "      <td>Theft</td>\n",
       "      <td>NF-BoT-IoT</td>\n",
       "    </tr>\n",
       "    <tr>\n",
       "      <th>11994873</th>\n",
       "      <td>192.168.100.3</td>\n",
       "      <td>50032</td>\n",
       "      <td>192.168.100.150</td>\n",
       "      <td>4433</td>\n",
       "      <td>6</td>\n",
       "      <td>0.0</td>\n",
       "      <td>2334879</td>\n",
       "      <td>897197</td>\n",
       "      <td>553</td>\n",
       "      <td>303</td>\n",
       "      <td>26</td>\n",
       "      <td>4273697</td>\n",
       "      <td>1</td>\n",
       "      <td>Theft</td>\n",
       "      <td>NF-BoT-IoT</td>\n",
       "    </tr>\n",
       "    <tr>\n",
       "      <th>11994882</th>\n",
       "      <td>192.168.100.149</td>\n",
       "      <td>4444</td>\n",
       "      <td>192.168.100.6</td>\n",
       "      <td>49160</td>\n",
       "      <td>6</td>\n",
       "      <td>0.0</td>\n",
       "      <td>171528</td>\n",
       "      <td>209050328</td>\n",
       "      <td>3009</td>\n",
       "      <td>3958</td>\n",
       "      <td>24</td>\n",
       "      <td>4175036</td>\n",
       "      <td>1</td>\n",
       "      <td>Theft</td>\n",
       "      <td>NF-BoT-IoT</td>\n",
       "    </tr>\n",
       "    <tr>\n",
       "      <th>11994883</th>\n",
       "      <td>192.168.100.150</td>\n",
       "      <td>4433</td>\n",
       "      <td>192.168.100.3</td>\n",
       "      <td>50032</td>\n",
       "      <td>6</td>\n",
       "      <td>0.0</td>\n",
       "      <td>303896</td>\n",
       "      <td>151306895</td>\n",
       "      <td>4974</td>\n",
       "      <td>13807</td>\n",
       "      <td>24</td>\n",
       "      <td>4213229</td>\n",
       "      <td>1</td>\n",
       "      <td>Theft</td>\n",
       "      <td>NF-BoT-IoT</td>\n",
       "    </tr>\n",
       "    <tr>\n",
       "      <th>11994892</th>\n",
       "      <td>192.168.100.6</td>\n",
       "      <td>49160</td>\n",
       "      <td>192.168.100.149</td>\n",
       "      <td>4444</td>\n",
       "      <td>6</td>\n",
       "      <td>0.0</td>\n",
       "      <td>40102320</td>\n",
       "      <td>37280</td>\n",
       "      <td>763</td>\n",
       "      <td>590</td>\n",
       "      <td>24</td>\n",
       "      <td>4270068</td>\n",
       "      <td>1</td>\n",
       "      <td>Theft</td>\n",
       "      <td>NF-BoT-IoT</td>\n",
       "    </tr>\n",
       "  </tbody>\n",
       "</table>\n",
       "<p>2786845 rows × 15 columns</p>\n",
       "</div>"
      ],
      "text/plain": [
       "                   src_ip  src_port           dst_ip  dst_port  ip_protocol  \\\n",
       "29           175.45.176.1     43025   149.171.126.16        25            6   \n",
       "40           175.45.176.3     64923   149.171.126.17        80            6   \n",
       "67           175.45.176.3      9022   149.171.126.13       111            6   \n",
       "93           175.45.176.3      1752   149.171.126.10        25            6   \n",
       "115          175.45.176.3     53967   149.171.126.14       111           17   \n",
       "...                   ...       ...              ...       ...          ...   \n",
       "11994872  192.168.100.150     46307    192.168.100.3        22            6   \n",
       "11994873    192.168.100.3     50032  192.168.100.150      4433            6   \n",
       "11994882  192.168.100.149      4444    192.168.100.6     49160            6   \n",
       "11994883  192.168.100.150      4433    192.168.100.3     50032            6   \n",
       "11994892    192.168.100.6     49160  192.168.100.149      4444            6   \n",
       "\n",
       "          l7_proto  in_bytes  out_bytes  in_pkts  out_pkts  tcp_flags  \\\n",
       "29             3.0     41290       2080       48        24         27   \n",
       "40             7.0       994        256       10         6         19   \n",
       "67            11.0       552        336       10         8         19   \n",
       "93             3.0      3022       1636       20        20         19   \n",
       "115           11.0       168          0        2         0          0   \n",
       "...            ...       ...        ...      ...       ...        ...   \n",
       "11994872      92.0      4854       5812       32        36         26   \n",
       "11994873       0.0   2334879     897197      553       303         26   \n",
       "11994882       0.0    171528  209050328     3009      3958         24   \n",
       "11994883       0.0    303896  151306895     4974     13807         24   \n",
       "11994892       0.0  40102320      37280      763       590         24   \n",
       "\n",
       "          duration  label         anomaly     notneeded  \n",
       "29             803      1        Exploits  NF-UNSW-NB15  \n",
       "40             189      1        Exploits  NF-UNSW-NB15  \n",
       "67             678      1  Reconnaissance  NF-UNSW-NB15  \n",
       "93             789      1             DoS  NF-UNSW-NB15  \n",
       "115              0      1  Reconnaissance  NF-UNSW-NB15  \n",
       "...            ...    ...             ...           ...  \n",
       "11994872   4266525      1           Theft    NF-BoT-IoT  \n",
       "11994873   4273697      1           Theft    NF-BoT-IoT  \n",
       "11994882   4175036      1           Theft    NF-BoT-IoT  \n",
       "11994883   4213229      1           Theft    NF-BoT-IoT  \n",
       "11994892   4270068      1           Theft    NF-BoT-IoT  \n",
       "\n",
       "[2786845 rows x 15 columns]"
      ]
     },
     "execution_count": 116,
     "metadata": {},
     "output_type": "execute_result"
    }
   ],
   "source": [
    "df_worm"
   ]
  },
  {
   "cell_type": "markdown",
   "metadata": {},
   "source": [
    "Scaler for data standartization"
   ]
  },
  {
   "cell_type": "code",
   "execution_count": 89,
   "metadata": {},
   "outputs": [],
   "source": [
    "def do_scl(df_num, cols):\n",
    "    print(\"Original values:\\n\", df_num)\n",
    "\n",
    "    scaler = RobustScaler()\n",
    "    scaler_temp = scaler.fit_transform(df_num)\n",
    "\n",
    "    std_df = pd.DataFrame(scaler_temp, columns =cols)\n",
    "\n",
    "    print(\"\\nScaled values:\\n\", std_df)\n",
    "\n",
    "    return std_df\n",
    "\n",
    "cat_cols = ['ip_protocol']"
   ]
  },
  {
   "cell_type": "markdown",
   "metadata": {},
   "source": [
    "Process standatrization and normalization primitive"
   ]
  },
  {
   "cell_type": "code",
   "execution_count": 90,
   "metadata": {},
   "outputs": [],
   "source": [
    "def process(dataframe):\n",
    "    df_num = dataframe.drop(cat_cols, axis=1)\n",
    "    num_cols = df_num.columns\n",
    "    scaled_df = do_scl(df_num, num_cols)\n",
    "\n",
    "    dataframe.drop(labels=num_cols, axis=\"columns\", inplace=True)\n",
    "    dataframe[num_cols] = scaled_df[num_cols]\n",
    "\n",
    "    #print(\"Before encoding:\")\n",
    "    #print(dataframe['ip_protocol'])\n",
    "    \n",
    "    #uncomment for categorical features\n",
    "    #dataframe = pd.get_dummies(dataframe, columns = ['ip_protocol'])\n",
    "\n",
    "    #print(\"\\nColumns after encoding:\")\n",
    "    #print(dataframe.filter(regex='^protocol_type_'))\n",
    "    \n",
    "    return dataframe"
   ]
  },
  {
   "cell_type": "markdown",
   "metadata": {},
   "source": [
    "Drop not necessary columns and process scaling"
   ]
  },
  {
   "cell_type": "code",
   "execution_count": 117,
   "metadata": {},
   "outputs": [],
   "source": [
    "df = df_src.drop(['src_ip', 'dst_ip','l7_proto','anomaly','notneeded'] ,axis=1)\n",
    "df_test =df_worm.drop(['src_ip', 'dst_ip','l7_proto','anomaly','notneeded'] ,axis=1)"
   ]
  },
  {
   "cell_type": "code",
   "execution_count": 118,
   "metadata": {},
   "outputs": [],
   "source": [
    "df.reset_index(inplace=True)\n",
    "df.drop(['index'],axis=1, inplace=True)\n",
    "\n",
    "df_test.reset_index(inplace=True)\n",
    "df_test.drop(['index'],axis=1, inplace=True)"
   ]
  },
  {
   "cell_type": "code",
   "execution_count": 119,
   "metadata": {},
   "outputs": [
    {
     "name": "stdout",
     "output_type": "stream",
     "text": [
      "Original values:\n",
      "          src_port  dst_port  in_bytes  out_bytes  in_pkts  out_pkts  \\\n",
      "0           43025        25     41290       2080       48        24   \n",
      "1           64923        80       994        256       10         6   \n",
      "2            9022       111       552        336       10         8   \n",
      "3            1752        25      3022       1636       20        20   \n",
      "4           53967       111       168          0        2         0   \n",
      "...           ...       ...       ...        ...      ...       ...   \n",
      "2786840     46307        22      4854       5812       32        36   \n",
      "2786841     50032      4433   2334879     897197      553       303   \n",
      "2786842      4444     49160    171528  209050328     3009      3958   \n",
      "2786843      4433     50032    303896  151306895     4974     13807   \n",
      "2786844     49160      4444  40102320      37280      763       590   \n",
      "\n",
      "         tcp_flags  duration  label  \n",
      "0               27       803      1  \n",
      "1               19       189      1  \n",
      "2               19       678      1  \n",
      "3               19       789      1  \n",
      "4                0         0      1  \n",
      "...            ...       ...    ...  \n",
      "2786840         26   4266525      1  \n",
      "2786841         26   4273697      1  \n",
      "2786842         24   4175036      1  \n",
      "2786843         24   4213229      1  \n",
      "2786844         24   4270068      1  \n",
      "\n",
      "[2786845 rows x 9 columns]\n",
      "\n",
      "Scaled values:\n",
      "          src_port    dst_port      in_bytes      out_bytes  in_pkts  out_pkts  \\\n",
      "0       -0.452239   -0.151515     82.477912       2.771739    11.00       4.6   \n",
      "1        0.987378    0.000000      1.562249       0.293478     1.50       1.0   \n",
      "2       -2.687660    0.085399      0.674699       0.402174     1.50       1.4   \n",
      "3       -3.165604   -0.151515      5.634538       2.168478     4.00       3.8   \n",
      "4        0.267109    0.085399     -0.096386      -0.054348    -0.50      -0.2   \n",
      "...           ...         ...           ...            ...      ...       ...   \n",
      "2786840 -0.236474   -0.159780      9.313253       7.842391     7.00       7.0   \n",
      "2786841  0.008415   11.991736   4688.078313    1218.963315   137.25      60.4   \n",
      "2786842 -2.988627  135.206612    344.000000  284035.717391   751.25     791.4   \n",
      "2786843 -2.989350  137.608815    609.799197  205579.966033  1242.50    2761.2   \n",
      "2786844 -0.048912   12.022039  80526.313253      50.597826   189.75     117.8   \n",
      "\n",
      "         tcp_flags     duration  label  \n",
      "0         0.333333     0.466152    0.0  \n",
      "1        -0.555556     0.101544    0.0  \n",
      "2        -0.555556     0.391924    0.0  \n",
      "3        -0.555556     0.457838    0.0  \n",
      "4        -2.666667    -0.010689    0.0  \n",
      "...            ...          ...    ...  \n",
      "2786840   0.222222  2533.555226    0.0  \n",
      "2786841   0.222222  2537.814133    0.0  \n",
      "2786842   0.000000  2479.226841    0.0  \n",
      "2786843   0.000000  2501.906770    0.0  \n",
      "2786844   0.000000  2535.659145    0.0  \n",
      "\n",
      "[2786845 rows x 9 columns]\n"
     ]
    }
   ],
   "source": [
    "scaled_test = process(df_test)"
   ]
  },
  {
   "cell_type": "code",
   "execution_count": 120,
   "metadata": {},
   "outputs": [
    {
     "name": "stdout",
     "output_type": "stream",
     "text": [
      "Original values:\n",
      "          src_port  dst_port  in_bytes  out_bytes  in_pkts  out_pkts  \\\n",
      "0           62073     56082      9672        416       11         8   \n",
      "1           32284      1526      1776        104        6         2   \n",
      "2              21     21971      1842       1236       26        22   \n",
      "3           23800     46893       528       8824       10        12   \n",
      "4           63062        21      1786       2340       32        34   \n",
      "...           ...       ...       ...        ...      ...       ...   \n",
      "9208043        80        80    240264          0      852         0   \n",
      "9208044        80        80   2330065          0     2523         0   \n",
      "9208045         0         0   1054423          0     1513         0   \n",
      "9208046       365       565     62422          0     1357         0   \n",
      "9208047     50850      8883     11300       1664       32        32   \n",
      "\n",
      "         tcp_flags  duration  label  \n",
      "0               25        15      0  \n",
      "1               25         0      0  \n",
      "2               25      1111      0  \n",
      "3               27       124      0  \n",
      "4               25      1459      0  \n",
      "...            ...       ...    ...  \n",
      "9208043          0   4263074      0  \n",
      "9208044          0   4263037      0  \n",
      "9208045          0   4263062      0  \n",
      "9208046          0   4263062      0  \n",
      "9208047         24   4264935      0  \n",
      "\n",
      "[9208048 rows x 9 columns]\n",
      "\n",
      "Scaled values:\n",
      "          src_port  dst_port     in_bytes  out_bytes     in_pkts  out_pkts  \\\n",
      "0        0.285198  8.148653     6.691489   0.132591    0.777778  0.857143   \n",
      "1       -0.462142  0.158612     1.091489  -0.041226    0.222222  0.000000   \n",
      "2       -1.271550  3.152900     1.138298   0.589415    2.444444  2.857143   \n",
      "3       -0.674987  6.802871     0.206383   4.816713    0.666667  1.428571   \n",
      "4        0.310010 -0.061804     1.098582   1.204457    3.111111  4.571429   \n",
      "...           ...       ...          ...        ...         ...       ...   \n",
      "9208043 -1.270070 -0.053163   170.231915  -0.099164   94.222222 -0.285714   \n",
      "9208044 -1.270070 -0.053163  1652.360284  -0.099164  279.888889 -0.285714   \n",
      "9208045 -1.272077 -0.064880   747.649645  -0.099164  167.666667 -0.285714   \n",
      "9208046 -1.262920  0.017868    44.102837  -0.099164  150.333333 -0.285714   \n",
      "9208047  0.003638  1.236087     7.846099   0.827855    3.111111  4.285714   \n",
      "\n",
      "         tcp_flags  duration  label  \n",
      "0         0.034483 -0.999037    0.0  \n",
      "1         0.034483 -0.999040    0.0  \n",
      "2         0.034483 -0.998781    0.0  \n",
      "3         0.103448 -0.999011    0.0  \n",
      "4         0.034483 -0.998700    0.0  \n",
      "...            ...       ...    ...  \n",
      "9208043  -0.827586 -0.006448    0.0  \n",
      "9208044  -0.827586 -0.006456    0.0  \n",
      "9208045  -0.827586 -0.006450    0.0  \n",
      "9208046  -0.827586 -0.006450    0.0  \n",
      "9208047   0.000000 -0.006014    0.0  \n",
      "\n",
      "[9208048 rows x 9 columns]\n"
     ]
    }
   ],
   "source": [
    "scaled_train = process(df)"
   ]
  },
  {
   "cell_type": "markdown",
   "metadata": {},
   "source": [
    "Split data in to training and validation sets"
   ]
  },
  {
   "cell_type": "code",
   "execution_count": 121,
   "metadata": {},
   "outputs": [],
   "source": [
    "y_test_live = scaled_test['label'].values\n",
    "y_test_live = y_test_live.astype('int')\n",
    "\n",
    "X_test_live = scaled_test.drop(['label'], axis=1)"
   ]
  },
  {
   "cell_type": "code",
   "execution_count": 122,
   "metadata": {},
   "outputs": [],
   "source": [
    "y = scaled_train['label'].values\n",
    "y = y.astype('int')\n",
    "\n",
    "X = scaled_train.drop(['label'], axis=1)\n",
    "\n",
    "x_train, x_test, y_train, y_test = \\\n",
    "    train_test_split(X, y, test_size=0.2, random_state=42)\n",
    "x_train_reduced, x_test_reduced, y_train_reduced, y_test_reduced = \\\n",
    "    train_test_split(X, y, test_size=0.2, random_state=42)"
   ]
  },
  {
   "cell_type": "markdown",
   "metadata": {},
   "source": [
    "n_estimators=1500 - the higher the value, the longer the training takes"
   ]
  },
  {
   "cell_type": "markdown",
   "metadata": {},
   "source": [
    "Start learning process\n",
    "These values can be tuned for best performance:\n",
    "'random_state=47, contamination=0.01,n_estimators=1000'"
   ]
  },
  {
   "cell_type": "code",
   "execution_count": 40,
   "metadata": {},
   "outputs": [
    {
     "name": "stderr",
     "output_type": "stream",
     "text": [
      "C:\\Users\\roman.iv\\AppData\\Roaming\\Python\\Python310\\site-packages\\sklearn\\base.py:450: UserWarning: X does not have valid feature names, but IsolationForest was fitted with feature names\n",
      "  warnings.warn(\n"
     ]
    },
    {
     "data": {
      "text/html": [
       "<style>#sk-container-id-3 {color: black;background-color: white;}#sk-container-id-3 pre{padding: 0;}#sk-container-id-3 div.sk-toggleable {background-color: white;}#sk-container-id-3 label.sk-toggleable__label {cursor: pointer;display: block;width: 100%;margin-bottom: 0;padding: 0.3em;box-sizing: border-box;text-align: center;}#sk-container-id-3 label.sk-toggleable__label-arrow:before {content: \"▸\";float: left;margin-right: 0.25em;color: #696969;}#sk-container-id-3 label.sk-toggleable__label-arrow:hover:before {color: black;}#sk-container-id-3 div.sk-estimator:hover label.sk-toggleable__label-arrow:before {color: black;}#sk-container-id-3 div.sk-toggleable__content {max-height: 0;max-width: 0;overflow: hidden;text-align: left;background-color: #f0f8ff;}#sk-container-id-3 div.sk-toggleable__content pre {margin: 0.2em;color: black;border-radius: 0.25em;background-color: #f0f8ff;}#sk-container-id-3 input.sk-toggleable__control:checked~div.sk-toggleable__content {max-height: 200px;max-width: 100%;overflow: auto;}#sk-container-id-3 input.sk-toggleable__control:checked~label.sk-toggleable__label-arrow:before {content: \"▾\";}#sk-container-id-3 div.sk-estimator input.sk-toggleable__control:checked~label.sk-toggleable__label {background-color: #d4ebff;}#sk-container-id-3 div.sk-label input.sk-toggleable__control:checked~label.sk-toggleable__label {background-color: #d4ebff;}#sk-container-id-3 input.sk-hidden--visually {border: 0;clip: rect(1px 1px 1px 1px);clip: rect(1px, 1px, 1px, 1px);height: 1px;margin: -1px;overflow: hidden;padding: 0;position: absolute;width: 1px;}#sk-container-id-3 div.sk-estimator {font-family: monospace;background-color: #f0f8ff;border: 1px dotted black;border-radius: 0.25em;box-sizing: border-box;margin-bottom: 0.5em;}#sk-container-id-3 div.sk-estimator:hover {background-color: #d4ebff;}#sk-container-id-3 div.sk-parallel-item::after {content: \"\";width: 100%;border-bottom: 1px solid gray;flex-grow: 1;}#sk-container-id-3 div.sk-label:hover label.sk-toggleable__label {background-color: #d4ebff;}#sk-container-id-3 div.sk-serial::before {content: \"\";position: absolute;border-left: 1px solid gray;box-sizing: border-box;top: 0;bottom: 0;left: 50%;z-index: 0;}#sk-container-id-3 div.sk-serial {display: flex;flex-direction: column;align-items: center;background-color: white;padding-right: 0.2em;padding-left: 0.2em;position: relative;}#sk-container-id-3 div.sk-item {position: relative;z-index: 1;}#sk-container-id-3 div.sk-parallel {display: flex;align-items: stretch;justify-content: center;background-color: white;position: relative;}#sk-container-id-3 div.sk-item::before, #sk-container-id-3 div.sk-parallel-item::before {content: \"\";position: absolute;border-left: 1px solid gray;box-sizing: border-box;top: 0;bottom: 0;left: 50%;z-index: -1;}#sk-container-id-3 div.sk-parallel-item {display: flex;flex-direction: column;z-index: 1;position: relative;background-color: white;}#sk-container-id-3 div.sk-parallel-item:first-child::after {align-self: flex-end;width: 50%;}#sk-container-id-3 div.sk-parallel-item:last-child::after {align-self: flex-start;width: 50%;}#sk-container-id-3 div.sk-parallel-item:only-child::after {width: 0;}#sk-container-id-3 div.sk-dashed-wrapped {border: 1px dashed gray;margin: 0 0.4em 0.5em 0.4em;box-sizing: border-box;padding-bottom: 0.4em;background-color: white;}#sk-container-id-3 div.sk-label label {font-family: monospace;font-weight: bold;display: inline-block;line-height: 1.2em;}#sk-container-id-3 div.sk-label-container {text-align: center;}#sk-container-id-3 div.sk-container {/* jupyter's `normalize.less` sets `[hidden] { display: none; }` but bootstrap.min.css set `[hidden] { display: none !important; }` so we also need the `!important` here to be able to override the default hidden behavior on the sphinx rendered scikit-learn.org. See: https://github.com/scikit-learn/scikit-learn/issues/21755 */display: inline-block !important;position: relative;}#sk-container-id-3 div.sk-text-repr-fallback {display: none;}</style><div id=\"sk-container-id-3\" class=\"sk-top-container\"><div class=\"sk-text-repr-fallback\"><pre>IsolationForest(contamination=0.001, n_jobs=-1, random_state=47)</pre><b>In a Jupyter environment, please rerun this cell to show the HTML representation or trust the notebook. <br />On GitHub, the HTML representation is unable to render, please try loading this page with nbviewer.org.</b></div><div class=\"sk-container\" hidden><div class=\"sk-item\"><div class=\"sk-estimator sk-toggleable\"><input class=\"sk-toggleable__control sk-hidden--visually\" id=\"sk-estimator-id-3\" type=\"checkbox\" checked><label for=\"sk-estimator-id-3\" class=\"sk-toggleable__label sk-toggleable__label-arrow\">IsolationForest</label><div class=\"sk-toggleable__content\"><pre>IsolationForest(contamination=0.001, n_jobs=-1, random_state=47)</pre></div></div></div></div></div>"
      ],
      "text/plain": [
       "IsolationForest(contamination=0.001, n_jobs=-1, random_state=47)"
      ]
     },
     "execution_count": 40,
     "metadata": {},
     "output_type": "execute_result"
    }
   ],
   "source": [
    "#clf = IsolationForest(random_state=47,n_jobs=-1, contamination=0.05,n_estimators=1000) #Work 84.3% - Give 84.3 accuracy score\n",
    "#clf = IsolationForest(random_state=47,n_jobs=-1, contamination=0.01,n_estimators=1000) #Work 86.3% - Give 84.3 accuracy score\n",
    "#clf = IsolationForest(random_state=47,n_jobs=-1, contamination=0.02,n_estimators=1500) #Work 86.26 - Give 86.26 accuracy score\n",
    "clf = IsolationForest(random_state=47,n_jobs=-1, contamination=0.001,n_estimators=100)\n",
    "clf.fit(x_train)"
   ]
  },
  {
   "cell_type": "markdown",
   "metadata": {},
   "source": [
    "Start prediction. Trained model know only x_train data"
   ]
  },
  {
   "cell_type": "code",
   "execution_count": 123,
   "metadata": {},
   "outputs": [],
   "source": [
    "predict_test_live = clf.predict(X_test_live)"
   ]
  },
  {
   "cell_type": "code",
   "execution_count": 48,
   "metadata": {},
   "outputs": [],
   "source": [
    "predict_test = clf.predict(x_test)\n",
    "predict_train = clf.predict(x_train)"
   ]
  },
  {
   "cell_type": "markdown",
   "metadata": {},
   "source": [
    "Normalize predicted values to source values for testing prediction:  0- is normal behviour, 1 - is anomaly"
   ]
  },
  {
   "cell_type": "code",
   "execution_count": 124,
   "metadata": {},
   "outputs": [],
   "source": [
    "predict_test_live[predict_test_live == 1] = 0\n",
    "predict_test[predict_test == 1] = 0\n",
    "predict_train[predict_train == 1] = 0\n",
    "\n",
    "predict_test_live[predict_test_live == -1] = 1\n",
    "predict_test[predict_test == -1] = 1\n",
    "predict_train[predict_train == -1] = 1"
   ]
  },
  {
   "cell_type": "markdown",
   "metadata": {},
   "source": [
    "Validate predicted values to known values and calculate accuracy"
   ]
  },
  {
   "cell_type": "code",
   "execution_count": 125,
   "metadata": {},
   "outputs": [],
   "source": [
    "test_accuracy_live = metrics.accuracy_score(y_test_live,predict_test_live)"
   ]
  },
  {
   "cell_type": "code",
   "execution_count": 126,
   "metadata": {},
   "outputs": [
    {
     "data": {
      "text/plain": [
       "(1.0, 1.0, 0.9999425874061887)"
      ]
     },
     "execution_count": 126,
     "metadata": {},
     "output_type": "execute_result"
    }
   ],
   "source": [
    "\n",
    "test_accuracy = metrics.accuracy_score(y_test,predict_test)\n",
    "train_accuracy = metrics.accuracy_score(y_train,predict_train)\n",
    "\n",
    "train_accuracy,test_accuracy,test_accuracy_live"
   ]
  },
  {
   "cell_type": "markdown",
   "metadata": {},
   "source": [
    "Print results for accuracy"
   ]
  },
  {
   "cell_type": "code",
   "execution_count": null,
   "metadata": {},
   "outputs": [],
   "source": [
    "n_error_test = predict_test[predict_test == 1].size\n",
    "n_error_outliers = predict_train[predict_train == 1].size\n",
    "\n",
    "print( \"errors novel regular: %d/40 ; errors novel abnormal: %d/40\"\n",
    "    % (n_error_test, n_error_outliers))\n",
    "\n",
    "print(\"Training Accuracy \" + \"IsolationForestClassifier\" + \" {}  Test Accuracy \".format(train_accuracy*100) + 'IsolationForestClassifier' + \" {}\".format(test_accuracy*100))"
   ]
  },
  {
   "cell_type": "markdown",
   "metadata": {},
   "source": [
    "Save trained model for future usage"
   ]
  },
  {
   "cell_type": "code",
   "execution_count": 127,
   "metadata": {},
   "outputs": [],
   "source": [
    "with open(\"IsolationForestModel_100.pkl\", \"wb\") as f:\n",
    "    dump(clf, f, protocol=5)"
   ]
  },
  {
   "cell_type": "markdown",
   "metadata": {},
   "source": [
    "From here starts example where we load the model from saved learned model file and use it to predict anomaly"
   ]
  },
  {
   "cell_type": "code",
   "execution_count": null,
   "metadata": {},
   "outputs": [],
   "source": [
    "# Read binary file\n",
    "with open(\"IsolationForestModel_86_91.pkl\", \"rb\") as f:\n",
    "    clf_test = load(f)"
   ]
  },
  {
   "cell_type": "markdown",
   "metadata": {},
   "source": [
    "We use again test data, but you can use your own data but you need standartize and normalize it first using methods described Above"
   ]
  },
  {
   "cell_type": "code",
   "execution_count": null,
   "metadata": {},
   "outputs": [],
   "source": [
    "predict_test_data= clf_test.predict(x_test)"
   ]
  },
  {
   "cell_type": "markdown",
   "metadata": {},
   "source": [
    "Normalize predicted values to source values for testing prediction: 0- is normal behviour, 1 - is anomaly. In preddicted model values 1 - is normal, -1 - is anomaly we normalize it to 0 and 1"
   ]
  },
  {
   "cell_type": "code",
   "execution_count": null,
   "metadata": {},
   "outputs": [],
   "source": [
    "predict_test_data[predict_test_data == 1] = 0\n",
    "predict_test_data[predict_test_data == -1] = 1"
   ]
  },
  {
   "cell_type": "markdown",
   "metadata": {},
   "source": [
    "Validate accuracy if you have had dataset with knowing and setted anomalies. Otherweise you can select only results with value 1 - is anomaly and compare it with source data to detect IPs and other data"
   ]
  },
  {
   "cell_type": "code",
   "execution_count": null,
   "metadata": {},
   "outputs": [],
   "source": [
    "test_accuracy_test = metrics.accuracy_score(y_test,predict_test_data)\n",
    "test_accuracy_test"
   ]
  }
 ],
 "metadata": {
  "kernelspec": {
   "display_name": "base",
   "language": "python",
   "name": "python3"
  },
  "language_info": {
   "codemirror_mode": {
    "name": "ipython",
    "version": 3
   },
   "file_extension": ".py",
   "mimetype": "text/x-python",
   "name": "python",
   "nbconvert_exporter": "python",
   "pygments_lexer": "ipython3",
   "version": "3.10.4"
  }
 },
 "nbformat": 4,
 "nbformat_minor": 2
}
